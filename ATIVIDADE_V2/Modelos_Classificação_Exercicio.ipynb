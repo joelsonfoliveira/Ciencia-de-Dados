{
 "cells": [
  {
   "cell_type": "markdown",
   "metadata": {},
   "source": [
    "#### Neste exercício iremos criar um classificador sobre para classificar os indíviduos que sobreviveram ou não no titanic, logo nossa variável é a **Survived**"
   ]
  },
  {
   "cell_type": "markdown",
   "metadata": {},
   "source": [
    "## Import as bibliotecas"
   ]
  },
  {
   "cell_type": "markdown",
   "metadata": {},
   "source": [
    "* Importe as bibliotecas necessárias (sklearn, pandas, ...)"
   ]
  },
  {
   "cell_type": "code",
   "execution_count": 1,
   "metadata": {},
   "outputs": [],
   "source": [
    "import pandas as pd\n",
    "from sklearn.model_selection import train_test_split\n",
    "from sklearn.linear_model import LogisticRegression\n",
    "from sklearn.metrics import accuracy_score"
   ]
  },
  {
   "cell_type": "markdown",
   "metadata": {},
   "source": [
    "## Acessando os dados"
   ]
  },
  {
   "cell_type": "markdown",
   "metadata": {},
   "source": [
    "* Recupere o **titanic_ready_to_ml.csv**"
   ]
  },
  {
   "cell_type": "code",
   "execution_count": 2,
   "metadata": {},
   "outputs": [],
   "source": [
    "df = pd.read_csv('titanic_ready_to_ml.csv')"
   ]
  },
  {
   "cell_type": "code",
   "execution_count": 3,
   "metadata": {},
   "outputs": [
    {
     "data": {
      "text/html": [
       "<div>\n",
       "<style scoped>\n",
       "    .dataframe tbody tr th:only-of-type {\n",
       "        vertical-align: middle;\n",
       "    }\n",
       "\n",
       "    .dataframe tbody tr th {\n",
       "        vertical-align: top;\n",
       "    }\n",
       "\n",
       "    .dataframe thead th {\n",
       "        text-align: right;\n",
       "    }\n",
       "</style>\n",
       "<table border=\"1\" class=\"dataframe\">\n",
       "  <thead>\n",
       "    <tr style=\"text-align: right;\">\n",
       "      <th></th>\n",
       "      <th>Survived</th>\n",
       "      <th>Name</th>\n",
       "      <th>Age</th>\n",
       "      <th>SibSp</th>\n",
       "      <th>Parch</th>\n",
       "      <th>Ticket</th>\n",
       "      <th>Fare</th>\n",
       "      <th>Q</th>\n",
       "      <th>S</th>\n",
       "      <th>Pclass_2</th>\n",
       "      <th>Pclass_3</th>\n",
       "      <th>Sex_1</th>\n",
       "      <th>AgeGroup</th>\n",
       "    </tr>\n",
       "  </thead>\n",
       "  <tbody>\n",
       "    <tr>\n",
       "      <th>0</th>\n",
       "      <td>0</td>\n",
       "      <td>Braund, Mr. Owen Harris</td>\n",
       "      <td>22.0</td>\n",
       "      <td>1</td>\n",
       "      <td>0</td>\n",
       "      <td>A/5 21171</td>\n",
       "      <td>0.014151</td>\n",
       "      <td>0</td>\n",
       "      <td>1</td>\n",
       "      <td>0</td>\n",
       "      <td>1</td>\n",
       "      <td>1</td>\n",
       "      <td>Adulto</td>\n",
       "    </tr>\n",
       "    <tr>\n",
       "      <th>1</th>\n",
       "      <td>1</td>\n",
       "      <td>Cumings, Mrs. John Bradley (Florence Briggs Th...</td>\n",
       "      <td>38.0</td>\n",
       "      <td>1</td>\n",
       "      <td>0</td>\n",
       "      <td>PC 17599</td>\n",
       "      <td>0.139136</td>\n",
       "      <td>0</td>\n",
       "      <td>0</td>\n",
       "      <td>0</td>\n",
       "      <td>0</td>\n",
       "      <td>0</td>\n",
       "      <td>Adulto</td>\n",
       "    </tr>\n",
       "    <tr>\n",
       "      <th>2</th>\n",
       "      <td>1</td>\n",
       "      <td>Heikkinen, Miss. Laina</td>\n",
       "      <td>26.0</td>\n",
       "      <td>0</td>\n",
       "      <td>0</td>\n",
       "      <td>STON/O2. 3101282</td>\n",
       "      <td>0.015469</td>\n",
       "      <td>0</td>\n",
       "      <td>1</td>\n",
       "      <td>0</td>\n",
       "      <td>1</td>\n",
       "      <td>0</td>\n",
       "      <td>Adulto</td>\n",
       "    </tr>\n",
       "    <tr>\n",
       "      <th>3</th>\n",
       "      <td>1</td>\n",
       "      <td>Futrelle, Mrs. Jacques Heath (Lily May Peel)</td>\n",
       "      <td>35.0</td>\n",
       "      <td>1</td>\n",
       "      <td>0</td>\n",
       "      <td>113803</td>\n",
       "      <td>0.103644</td>\n",
       "      <td>0</td>\n",
       "      <td>1</td>\n",
       "      <td>0</td>\n",
       "      <td>0</td>\n",
       "      <td>0</td>\n",
       "      <td>Adulto</td>\n",
       "    </tr>\n",
       "    <tr>\n",
       "      <th>4</th>\n",
       "      <td>0</td>\n",
       "      <td>Allen, Mr. William Henry</td>\n",
       "      <td>35.0</td>\n",
       "      <td>0</td>\n",
       "      <td>0</td>\n",
       "      <td>373450</td>\n",
       "      <td>0.015713</td>\n",
       "      <td>0</td>\n",
       "      <td>1</td>\n",
       "      <td>0</td>\n",
       "      <td>1</td>\n",
       "      <td>1</td>\n",
       "      <td>Adulto</td>\n",
       "    </tr>\n",
       "  </tbody>\n",
       "</table>\n",
       "</div>"
      ],
      "text/plain": [
       "   Survived                                               Name   Age  SibSp  \\\n",
       "0         0                            Braund, Mr. Owen Harris  22.0      1   \n",
       "1         1  Cumings, Mrs. John Bradley (Florence Briggs Th...  38.0      1   \n",
       "2         1                             Heikkinen, Miss. Laina  26.0      0   \n",
       "3         1       Futrelle, Mrs. Jacques Heath (Lily May Peel)  35.0      1   \n",
       "4         0                           Allen, Mr. William Henry  35.0      0   \n",
       "\n",
       "   Parch            Ticket      Fare  Q  S  Pclass_2  Pclass_3  Sex_1 AgeGroup  \n",
       "0      0         A/5 21171  0.014151  0  1         0         1      1   Adulto  \n",
       "1      0          PC 17599  0.139136  0  0         0         0      0   Adulto  \n",
       "2      0  STON/O2. 3101282  0.015469  0  1         0         1      0   Adulto  \n",
       "3      0            113803  0.103644  0  1         0         0      0   Adulto  \n",
       "4      0            373450  0.015713  0  1         0         1      1   Adulto  "
      ]
     },
     "execution_count": 3,
     "metadata": {},
     "output_type": "execute_result"
    }
   ],
   "source": [
    "df.head()"
   ]
  },
  {
   "cell_type": "markdown",
   "metadata": {},
   "source": [
    "## Construindo do modelo"
   ]
  },
  {
   "cell_type": "markdown",
   "metadata": {},
   "source": [
    "#### Importe a classe [DecisionTreeClassifier](https://scikit-learn.org/stable/modules/generated/sklearn.tree.DecisionTreeClassifier.html) e [RandomForestClassifier](https://scikit-learn.org/stable/modules/generated/sklearn.ensemble.RandomForestClassifier.html) do Sklearn"
   ]
  },
  {
   "cell_type": "code",
   "execution_count": 4,
   "metadata": {},
   "outputs": [],
   "source": [
    "from sklearn.tree import DecisionTreeClassifier\n",
    "from sklearn.ensemble import RandomForestClassifier\n",
    "from sklearn.preprocessing import OneHotEncoder"
   ]
  },
  {
   "cell_type": "markdown",
   "metadata": {},
   "source": [
    "### Separe os dados em teste e treino"
   ]
  },
  {
   "cell_type": "markdown",
   "metadata": {},
   "source": [
    "* Importe [train_test_split](https://scikit-learn.org/stable/modules/generated/sklearn.model_selection.train_test_split.html), para facilitar a sepração do treino e do teste, utilize o test_size de 30% e random state igual a 16\n",
    "* Crie as variáveis X_train, X_test, y_train, y_test a partir do retorno da função da função train_test_split"
   ]
  },
  {
   "cell_type": "code",
   "execution_count": 5,
   "metadata": {},
   "outputs": [],
   "source": [
    "from sklearn.model_selection import train_test_split"
   ]
  },
  {
   "cell_type": "code",
   "execution_count": 6,
   "metadata": {},
   "outputs": [],
   "source": [
    "# Separando as variáveis preditoras (X) e a variável alvo (y)\n",
    "X = df.drop('Survived', axis=1)\n",
    "y = df['Survived']\n",
    "\n",
    "# One-hot encoding nas variáveis categóricas\n",
    "ohe = OneHotEncoder()\n",
    "X_encoded = ohe.fit_transform(X)\n",
    "\n",
    "# Dividindo os dados em treino e teste\n",
    "X_train, X_test, y_train, y_test = train_test_split(X_encoded, y, test_size=0.3, random_state=16)"
   ]
  },
  {
   "cell_type": "markdown",
   "metadata": {},
   "source": [
    "### Instacie um objeto da classe DecisionTreeClassifier()"
   ]
  },
  {
   "cell_type": "code",
   "execution_count": 7,
   "metadata": {},
   "outputs": [],
   "source": [
    "# Instanciando os dados\n",
    "model_dt = DecisionTreeClassifier()"
   ]
  },
  {
   "cell_type": "code",
   "execution_count": 8,
   "metadata": {},
   "outputs": [
    {
     "data": {
      "text/plain": [
       "DecisionTreeClassifier()"
      ]
     },
     "execution_count": 8,
     "metadata": {},
     "output_type": "execute_result"
    }
   ],
   "source": [
    "# Treinando os dados\n",
    "model_dt.fit(X_train, y_train)"
   ]
  },
  {
   "cell_type": "markdown",
   "metadata": {},
   "source": [
    "### Faça as predições, sobre os dados de teste criados anteriormente, invocando a função predict do modelo criado\n",
    "   * Chame a função *predict_proba* em outra célula. Qual a diferença desse método para o método predict?"
   ]
  },
  {
   "cell_type": "code",
   "execution_count": 9,
   "metadata": {},
   "outputs": [],
   "source": [
    "y_pred = model_dt.predict(X_test)"
   ]
  },
  {
   "cell_type": "code",
   "execution_count": 10,
   "metadata": {},
   "outputs": [],
   "source": [
    "# A função predict_proba retorna a probabilidade estimada de cada classe para cada amostra de teste.\n",
    "proba = model_dt.predict_proba(X_test)"
   ]
  },
  {
   "cell_type": "code",
   "execution_count": 11,
   "metadata": {},
   "outputs": [],
   "source": [
    "# A diferença entre esses dois métodos é que predict retorna as classes previstas (por exemplo, 0 ou 1),\n",
    "# enquanto predict_proba retorna a probabilidade de pertencer a cada classe\n",
    "# (por exemplo, 0.7 para classe 0 e 0.3 para classe 1)."
   ]
  },
  {
   "cell_type": "markdown",
   "metadata": {},
   "source": [
    "## Avaliando o modelo"
   ]
  },
  {
   "cell_type": "markdown",
   "metadata": {},
   "source": [
    "### Importe e utilize a função [confusion_matrix](https://scikit-learn.org/stable/modules/generated/sklearn.metrics.confusion_matrix.html) para construir a matriz de confusão, sobre os valores preditos e valores reais.\n",
    "* *Dica:* Você pode querer visualizar a matriz, veja este [exemplo](https://scikit-learn.org/stable/auto_examples/model_selection/plot_confusion_matrix.html#sphx-glr-auto-examples-model-selection-plot-confusion-matrix-py)\n",
    "* **Para reflexão:** O que pode haver de comum entre os falsos positivos e os falsos negativos?"
   ]
  },
  {
   "cell_type": "code",
   "execution_count": 12,
   "metadata": {},
   "outputs": [],
   "source": [
    "from sklearn.metrics import confusion_matrix"
   ]
  },
  {
   "cell_type": "code",
   "execution_count": 13,
   "metadata": {},
   "outputs": [
    {
     "name": "stdout",
     "output_type": "stream",
     "text": [
      "[[226   0]\n",
      " [  0 396]]\n"
     ]
    }
   ],
   "source": [
    "y_estimado = model_dt.predict(X_train)\n",
    "cm = confusion_matrix(y_estimado, y_train, labels=[1, 0])\n",
    "print(cm)"
   ]
  },
  {
   "cell_type": "code",
   "execution_count": 14,
   "metadata": {},
   "outputs": [
    {
     "name": "stdout",
     "output_type": "stream",
     "text": [
      "[[0. 1.]\n",
      " [1. 0.]\n",
      " [1. 0.]\n",
      " ...\n",
      " [1. 0.]\n",
      " [1. 0.]\n",
      " [1. 0.]]\n"
     ]
    }
   ],
   "source": [
    "probs = model_dt.predict_proba(X_train)\n",
    "print(probs)"
   ]
  },
  {
   "cell_type": "code",
   "execution_count": 15,
   "metadata": {},
   "outputs": [
    {
     "name": "stdout",
     "output_type": "stream",
     "text": [
      "[[ 76  38]\n",
      " [ 10 143]]\n"
     ]
    }
   ],
   "source": [
    "from sklearn.metrics import confusion_matrix\n",
    "\n",
    "y_estimado = model_dt.predict(X_test)\n",
    "cm = confusion_matrix(y_test, y_estimado, labels=[1, 0])\n",
    "\n",
    "print(cm)"
   ]
  },
  {
   "cell_type": "code",
   "execution_count": 16,
   "metadata": {},
   "outputs": [
    {
     "name": "stdout",
     "output_type": "stream",
     "text": [
      "[[0. 1.]\n",
      " [0. 1.]\n",
      " [1. 0.]\n",
      " [0. 1.]\n",
      " [1. 0.]\n",
      " [1. 0.]\n",
      " [0. 1.]\n",
      " [1. 0.]\n",
      " [1. 0.]\n",
      " [0. 1.]\n",
      " [0. 1.]\n",
      " [1. 0.]\n",
      " [1. 0.]\n",
      " [1. 0.]\n",
      " [1. 0.]\n",
      " [1. 0.]\n",
      " [1. 0.]\n",
      " [0. 1.]\n",
      " [1. 0.]\n",
      " [0. 1.]\n",
      " [0. 1.]\n",
      " [0. 1.]\n",
      " [1. 0.]\n",
      " [1. 0.]\n",
      " [1. 0.]\n",
      " [1. 0.]\n",
      " [1. 0.]\n",
      " [0. 1.]\n",
      " [0. 1.]\n",
      " [1. 0.]\n",
      " [1. 0.]\n",
      " [1. 0.]\n",
      " [0. 1.]\n",
      " [1. 0.]\n",
      " [1. 0.]\n",
      " [1. 0.]\n",
      " [1. 0.]\n",
      " [1. 0.]\n",
      " [1. 0.]\n",
      " [1. 0.]\n",
      " [1. 0.]\n",
      " [1. 0.]\n",
      " [1. 0.]\n",
      " [0. 1.]\n",
      " [0. 1.]\n",
      " [1. 0.]\n",
      " [1. 0.]\n",
      " [0. 1.]\n",
      " [1. 0.]\n",
      " [0. 1.]\n",
      " [1. 0.]\n",
      " [1. 0.]\n",
      " [1. 0.]\n",
      " [0. 1.]\n",
      " [1. 0.]\n",
      " [1. 0.]\n",
      " [1. 0.]\n",
      " [1. 0.]\n",
      " [0. 1.]\n",
      " [0. 1.]\n",
      " [0. 1.]\n",
      " [0. 1.]\n",
      " [1. 0.]\n",
      " [1. 0.]\n",
      " [1. 0.]\n",
      " [1. 0.]\n",
      " [1. 0.]\n",
      " [1. 0.]\n",
      " [1. 0.]\n",
      " [1. 0.]\n",
      " [0. 1.]\n",
      " [1. 0.]\n",
      " [1. 0.]\n",
      " [0. 1.]\n",
      " [1. 0.]\n",
      " [1. 0.]\n",
      " [1. 0.]\n",
      " [1. 0.]\n",
      " [0. 1.]\n",
      " [0. 1.]\n",
      " [1. 0.]\n",
      " [1. 0.]\n",
      " [1. 0.]\n",
      " [1. 0.]\n",
      " [0. 1.]\n",
      " [0. 1.]\n",
      " [0. 1.]\n",
      " [1. 0.]\n",
      " [1. 0.]\n",
      " [0. 1.]\n",
      " [1. 0.]\n",
      " [1. 0.]\n",
      " [0. 1.]\n",
      " [1. 0.]\n",
      " [1. 0.]\n",
      " [1. 0.]\n",
      " [1. 0.]\n",
      " [1. 0.]\n",
      " [1. 0.]\n",
      " [1. 0.]\n",
      " [0. 1.]\n",
      " [1. 0.]\n",
      " [1. 0.]\n",
      " [0. 1.]\n",
      " [0. 1.]\n",
      " [1. 0.]\n",
      " [0. 1.]\n",
      " [1. 0.]\n",
      " [1. 0.]\n",
      " [1. 0.]\n",
      " [0. 1.]\n",
      " [1. 0.]\n",
      " [0. 1.]\n",
      " [0. 1.]\n",
      " [1. 0.]\n",
      " [1. 0.]\n",
      " [0. 1.]\n",
      " [1. 0.]\n",
      " [1. 0.]\n",
      " [1. 0.]\n",
      " [1. 0.]\n",
      " [0. 1.]\n",
      " [0. 1.]\n",
      " [1. 0.]\n",
      " [1. 0.]\n",
      " [1. 0.]\n",
      " [0. 1.]\n",
      " [1. 0.]\n",
      " [1. 0.]\n",
      " [1. 0.]\n",
      " [1. 0.]\n",
      " [1. 0.]\n",
      " [0. 1.]\n",
      " [0. 1.]\n",
      " [0. 1.]\n",
      " [1. 0.]\n",
      " [1. 0.]\n",
      " [1. 0.]\n",
      " [1. 0.]\n",
      " [1. 0.]\n",
      " [0. 1.]\n",
      " [0. 1.]\n",
      " [1. 0.]\n",
      " [0. 1.]\n",
      " [1. 0.]\n",
      " [1. 0.]\n",
      " [1. 0.]\n",
      " [0. 1.]\n",
      " [1. 0.]\n",
      " [1. 0.]\n",
      " [1. 0.]\n",
      " [1. 0.]\n",
      " [0. 1.]\n",
      " [1. 0.]\n",
      " [0. 1.]\n",
      " [0. 1.]\n",
      " [0. 1.]\n",
      " [1. 0.]\n",
      " [1. 0.]\n",
      " [1. 0.]\n",
      " [0. 1.]\n",
      " [1. 0.]\n",
      " [1. 0.]\n",
      " [1. 0.]\n",
      " [0. 1.]\n",
      " [1. 0.]\n",
      " [1. 0.]\n",
      " [0. 1.]\n",
      " [1. 0.]\n",
      " [1. 0.]\n",
      " [0. 1.]\n",
      " [0. 1.]\n",
      " [1. 0.]\n",
      " [1. 0.]\n",
      " [1. 0.]\n",
      " [0. 1.]\n",
      " [1. 0.]\n",
      " [0. 1.]\n",
      " [0. 1.]\n",
      " [1. 0.]\n",
      " [1. 0.]\n",
      " [1. 0.]\n",
      " [1. 0.]\n",
      " [1. 0.]\n",
      " [1. 0.]\n",
      " [1. 0.]\n",
      " [1. 0.]\n",
      " [1. 0.]\n",
      " [1. 0.]\n",
      " [1. 0.]\n",
      " [0. 1.]\n",
      " [0. 1.]\n",
      " [1. 0.]\n",
      " [1. 0.]\n",
      " [1. 0.]\n",
      " [1. 0.]\n",
      " [1. 0.]\n",
      " [0. 1.]\n",
      " [1. 0.]\n",
      " [1. 0.]\n",
      " [1. 0.]\n",
      " [1. 0.]\n",
      " [1. 0.]\n",
      " [0. 1.]\n",
      " [1. 0.]\n",
      " [0. 1.]\n",
      " [1. 0.]\n",
      " [0. 1.]\n",
      " [1. 0.]\n",
      " [0. 1.]\n",
      " [1. 0.]\n",
      " [0. 1.]\n",
      " [0. 1.]\n",
      " [0. 1.]\n",
      " [1. 0.]\n",
      " [1. 0.]\n",
      " [0. 1.]\n",
      " [1. 0.]\n",
      " [1. 0.]\n",
      " [0. 1.]\n",
      " [1. 0.]\n",
      " [1. 0.]\n",
      " [1. 0.]\n",
      " [0. 1.]\n",
      " [1. 0.]\n",
      " [0. 1.]\n",
      " [0. 1.]\n",
      " [0. 1.]\n",
      " [1. 0.]\n",
      " [1. 0.]\n",
      " [1. 0.]\n",
      " [1. 0.]\n",
      " [1. 0.]\n",
      " [1. 0.]\n",
      " [1. 0.]\n",
      " [0. 1.]\n",
      " [1. 0.]\n",
      " [1. 0.]\n",
      " [0. 1.]\n",
      " [0. 1.]\n",
      " [1. 0.]\n",
      " [1. 0.]\n",
      " [1. 0.]\n",
      " [1. 0.]\n",
      " [0. 1.]\n",
      " [0. 1.]\n",
      " [1. 0.]\n",
      " [1. 0.]\n",
      " [0. 1.]\n",
      " [1. 0.]\n",
      " [0. 1.]\n",
      " [1. 0.]\n",
      " [1. 0.]\n",
      " [1. 0.]\n",
      " [1. 0.]\n",
      " [1. 0.]\n",
      " [1. 0.]\n",
      " [1. 0.]\n",
      " [1. 0.]\n",
      " [1. 0.]\n",
      " [1. 0.]\n",
      " [0. 1.]\n",
      " [1. 0.]\n",
      " [1. 0.]\n",
      " [1. 0.]\n",
      " [1. 0.]\n",
      " [0. 1.]]\n"
     ]
    }
   ],
   "source": [
    "y_proba = model_dt.predict_proba(X_test)\n",
    "print(y_proba)"
   ]
  },
  {
   "cell_type": "markdown",
   "metadata": {},
   "source": [
    "### Importe e utilize a função [classification_report](https://scikit-learn.org/stable/modules/generated/sklearn.metrics.classification_report.html) para visualizar algumas métricas sobre o seu resultado"
   ]
  },
  {
   "cell_type": "code",
   "execution_count": 17,
   "metadata": {},
   "outputs": [
    {
     "name": "stdout",
     "output_type": "stream",
     "text": [
      "              precision    recall  f1-score   support\n",
      "\n",
      "           0       0.93      0.79      0.86       181\n",
      "           1       0.67      0.88      0.76        86\n",
      "\n",
      "    accuracy                           0.82       267\n",
      "   macro avg       0.80      0.84      0.81       267\n",
      "weighted avg       0.85      0.82      0.83       267\n",
      "\n"
     ]
    }
   ],
   "source": [
    "from sklearn.metrics import classification_report, precision_score\n",
    "\n",
    "print(classification_report(y_estimado, y_test))"
   ]
  },
  {
   "cell_type": "code",
   "execution_count": 18,
   "metadata": {},
   "outputs": [
    {
     "name": "stdout",
     "output_type": "stream",
     "text": [
      "84.83%\n"
     ]
    }
   ],
   "source": [
    "precision = precision_score(y_estimado, y_test, average='weighted')\n",
    "precision_percent = precision * 100\n",
    "formatted_precision = \"{:.2f}%\".format(precision_percent)\n",
    "\n",
    "print(formatted_precision)"
   ]
  },
  {
   "cell_type": "markdown",
   "metadata": {},
   "source": [
    "## Interpretando os resultados do modelo"
   ]
  },
  {
   "cell_type": "markdown",
   "metadata": {},
   "source": [
    "### Quais as features mais importantes? Visualize o impacto das features na classificação\n",
    "* *Dica:* Utilize a função feature_importances_ do modelo construído"
   ]
  },
  {
   "cell_type": "code",
   "execution_count": 19,
   "metadata": {},
   "outputs": [
    {
     "name": "stdout",
     "output_type": "stream",
     "text": [
      "Feature: Survived, Importância: 0.00%\n",
      "Feature: Name, Importância: 0.00%\n",
      "Feature: Age, Importância: 0.67%\n",
      "Feature: SibSp, Importância: 0.00%\n",
      "Feature: Parch, Importância: 0.00%\n",
      "Feature: Ticket, Importância: 0.00%\n",
      "Feature: Fare, Importância: 0.00%\n",
      "Feature: Q, Importância: 0.00%\n",
      "Feature: S, Importância: 0.00%\n",
      "Feature: Pclass_2, Importância: 0.41%\n",
      "Feature: Pclass_3, Importância: 0.00%\n",
      "Feature: Sex_1, Importância: 0.00%\n",
      "Feature: AgeGroup, Importância: 0.00%\n"
     ]
    }
   ],
   "source": [
    "column_names = list(df.columns)\n",
    "feature_importance = model_dt.feature_importances_\n",
    "\n",
    "features = zip(column_names, feature_importance * 100)\n",
    "\n",
    "for feature in features:\n",
    "    print(f\"Feature: {feature[0]}, Importância: {feature[1]:.2f}%\")"
   ]
  },
  {
   "cell_type": "code",
   "execution_count": 20,
   "metadata": {},
   "outputs": [],
   "source": [
    "features = dict(features)\n",
    "features = pd.DataFrame.from_dict(features, orient='index', columns=['Importância'])\n",
    "features = features.sort_values('Importância', ascending=False).head(5)"
   ]
  },
  {
   "cell_type": "markdown",
   "metadata": {},
   "source": [
    "### Plote em um scatterplot com duas das principais variáveis no eixo x e y e verifique a distinção das classes. <!--Veja este [exemplo](https://medium.com/machine-learning-beyond-deep-learning/%C3%A1rvores-de-decis%C3%A3o-3f52f6420b69)-->"
   ]
  },
  {
   "cell_type": "code",
   "execution_count": 21,
   "metadata": {},
   "outputs": [
    {
     "data": {
      "image/png": "[encoded data removed]",
      "text/plain": [
       "<Figure size 800x600 with 1 Axes>"
      ]
     },
     "metadata": {},
     "output_type": "display_data"
    }
   ],
   "source": [
    "import matplotlib.pyplot as plt\n",
    "\n",
    "# DataFrame com as variáveis selecionadas e a classe\n",
    "data_plot = df[['Age', 'Pclass_2', 'Survived']].copy()\n",
    "\n",
    "# Converte os dados para tipos numéricos\n",
    "data_plot['Age'] = pd.to_numeric(data_plot['Age'])\n",
    "data_plot['Pclass_2'] = pd.to_numeric(data_plot['Pclass_2'])\n",
    "\n",
    "# Plota o scatterplot\n",
    "plt.figure(figsize=(8, 6))\n",
    "plt.scatter(data_plot[data_plot['Survived'] == 1]['Age'], data_plot[data_plot['Survived'] == 1]['Pclass_2'], color='green', label='Survived')\n",
    "plt.scatter(data_plot[data_plot['Survived'] == 0]['Age'], data_plot[data_plot['Survived'] == 0]['Pclass_2'], color='red', label='Not Survived')\n",
    "plt.xlabel('Age')\n",
    "plt.ylabel('Pclass_2')\n",
    "plt.title('Scatterplot das principais variáveis')\n",
    "plt.legend()\n",
    "plt.show()\n"
   ]
  },
  {
   "cell_type": "markdown",
   "metadata": {},
   "source": [
    "# Tuning Model"
   ]
  },
  {
   "cell_type": "markdown",
   "metadata": {},
   "source": [
    "### Treine o modelo apenas com as 4 features mais importantes e veja a matriz de confusão\n",
    "   - Plus: Tente variar algum hiperparamêtro para tentar melhor as KPIs"
   ]
  },
  {
   "cell_type": "code",
   "execution_count": 22,
   "metadata": {},
   "outputs": [],
   "source": [
    "# 4 features mais importantes\n",
    "top_features = ['Age', 'Pclass_2', 'Fare', 'Sex_1']"
   ]
  },
  {
   "cell_type": "code",
   "execution_count": 23,
   "metadata": {},
   "outputs": [],
   "source": [
    "# Separar as variáveis preditoras (X) e a variável alvo (y)\n",
    "X = df[top_features]\n",
    "y = df['Survived']"
   ]
  },
  {
   "cell_type": "code",
   "execution_count": 24,
   "metadata": {},
   "outputs": [],
   "source": [
    "# Dividir os dados em treino e teste\n",
    "X_train, X_test, y_train, y_test = train_test_split(X, y, test_size=0.3, random_state=16)"
   ]
  },
  {
   "cell_type": "code",
   "execution_count": 25,
   "metadata": {},
   "outputs": [],
   "source": [
    "# Instanciar o modelo de árvore de decisão\n",
    "model_dt = DecisionTreeClassifier()"
   ]
  },
  {
   "cell_type": "code",
   "execution_count": 26,
   "metadata": {},
   "outputs": [
    {
     "data": {
      "text/plain": [
       "DecisionTreeClassifier()"
      ]
     },
     "execution_count": 26,
     "metadata": {},
     "output_type": "execute_result"
    }
   ],
   "source": [
    "# Treinar o modelo apenas com as 4 features selecionadas\n",
    "model_dt.fit(X_train, y_train)"
   ]
  },
  {
   "cell_type": "code",
   "execution_count": 27,
   "metadata": {},
   "outputs": [],
   "source": [
    "# Fazer as previsões no conjunto de teste\n",
    "y_pred = model_dt.predict(X_test)"
   ]
  },
  {
   "cell_type": "code",
   "execution_count": 28,
   "metadata": {},
   "outputs": [],
   "source": [
    "# Calcular a matriz de confusão\n",
    "cm = confusion_matrix(y_test, y_pred)"
   ]
  },
  {
   "cell_type": "code",
   "execution_count": 29,
   "metadata": {},
   "outputs": [
    {
     "name": "stdout",
     "output_type": "stream",
     "text": [
      "Matriz de Confusão:\n",
      "[[126  27]\n",
      " [ 34  80]]\n"
     ]
    }
   ],
   "source": [
    "print(\"Matriz de Confusão:\")\n",
    "print(cm)"
   ]
  },
  {
   "cell_type": "code",
   "execution_count": 30,
   "metadata": {},
   "outputs": [],
   "source": [
    "# Ajuste de hiperparâmetros\n",
    "#model_dt = DecisionTreeClassifier(max_depth=5, criterion='entropy', min_samples_split=10)\n",
    "#model_dt.fit(X_train, y_train)\n",
    "#y_pred = model_dt.predict(X_test)\n",
    "#cm = confusion_matrix(y_test, y_pred)\n",
    "#print(\"Matriz de Confusão:\")\n",
    "#print(cm)"
   ]
  },
  {
   "cell_type": "markdown",
   "metadata": {},
   "source": [
    "### Resolva as questoes anteriores, a partir da instanciação do objeto, para o algoritmo [RandomForestClassifier](https://scikit-learn.org/stable/modules/generated/sklearn.ensemble.RandomForestClassifier.html)"
   ]
  },
  {
   "cell_type": "code",
   "execution_count": 31,
   "metadata": {},
   "outputs": [],
   "source": [
    "#RandomForestClassifier\n",
    "# Instanciando os dados\n",
    "model_rf = RandomForestClassifier()"
   ]
  },
  {
   "cell_type": "code",
   "execution_count": 32,
   "metadata": {},
   "outputs": [
    {
     "data": {
      "text/plain": [
       "RandomForestClassifier()"
      ]
     },
     "execution_count": 32,
     "metadata": {},
     "output_type": "execute_result"
    }
   ],
   "source": [
    "# Treinando os dados\n",
    "model_rf.fit(X_train, y_train)"
   ]
  },
  {
   "cell_type": "code",
   "execution_count": 33,
   "metadata": {},
   "outputs": [],
   "source": [
    "# Previsões no conjunto de teste\n",
    "y_pred = model_rf.predict(X_test)"
   ]
  },
  {
   "cell_type": "code",
   "execution_count": 34,
   "metadata": {},
   "outputs": [
    {
     "name": "stdout",
     "output_type": "stream",
     "text": [
      "Previsões:\n",
      "[0 1 0 1 1 0 1 0 0 1 1 0 0 0 0 1 1 0 0 1 1 1 0 0 0 0 0 1 0 0 1 0 1 0 0 0 0\n",
      " 0 0 0 0 0 1 1 1 1 0 1 0 1 0 0 0 1 0 0 0 0 1 1 1 1 1 0 1 0 0 0 1 0 1 0 0 1\n",
      " 0 0 0 0 1 1 0 0 0 0 1 1 1 0 0 1 0 0 1 0 0 0 0 0 0 0 1 1 0 1 1 0 1 0 0 0 1\n",
      " 0 1 1 0 0 1 1 1 0 1 1 1 0 0 0 1 0 0 0 0 0 1 1 0 0 0 0 0 0 1 1 0 1 0 1 0 1\n",
      " 1 0 0 0 1 0 1 1 1 0 0 1 1 0 0 0 1 0 0 1 0 1 1 1 0 0 0 0 0 1 1 0 0 0 0 0 0\n",
      " 0 0 0 0 0 1 1 0 0 0 0 0 1 0 0 0 0 0 1 0 1 0 1 0 1 0 1 1 1 0 0 1 0 0 1 0 0\n",
      " 0 1 0 1 1 1 0 0 0 1 1 0 0 1 0 1 1 1 0 0 0 0 0 1 0 0 1 0 1 0 0 0 0 1 0 0 0\n",
      " 0 1 1 0 0 0 0 0]\n"
     ]
    }
   ],
   "source": [
    "print(\"Previsões:\")\n",
    "print(y_pred)"
   ]
  },
  {
   "cell_type": "code",
   "execution_count": 35,
   "metadata": {},
   "outputs": [],
   "source": [
    "# Previsões de probabilidade usando o conjunto de teste\n",
    "proba = model_rf.predict_proba(X_test)"
   ]
  },
  {
   "cell_type": "code",
   "execution_count": 36,
   "metadata": {},
   "outputs": [
    {
     "name": "stdout",
     "output_type": "stream",
     "text": [
      "Previsões de probabilidade:\n",
      "[[0.74       0.26      ]\n",
      " [0.02       0.98      ]\n",
      " [0.92       0.08      ]\n",
      " [0.06       0.94      ]\n",
      " [0.10892136 0.89107864]\n",
      " [1.         0.        ]\n",
      " [0.26       0.74      ]\n",
      " [0.99177778 0.00822222]\n",
      " [0.99       0.01      ]\n",
      " [0.07       0.93      ]\n",
      " [0.13775755 0.86224245]\n",
      " [0.62       0.38      ]\n",
      " [0.88378387 0.11621613]\n",
      " [0.7        0.3       ]\n",
      " [0.82       0.18      ]\n",
      " [0.43       0.57      ]\n",
      " [0.35271429 0.64728571]\n",
      " [0.51       0.49      ]\n",
      " [0.813      0.187     ]\n",
      " [0.         1.        ]\n",
      " [0.3        0.7       ]\n",
      " [0.02       0.98      ]\n",
      " [0.98       0.02      ]\n",
      " [0.925      0.075     ]\n",
      " [0.99       0.01      ]\n",
      " [1.         0.        ]\n",
      " [1.         0.        ]\n",
      " [0.06       0.94      ]\n",
      " [0.65       0.35      ]\n",
      " [0.97       0.03      ]\n",
      " [0.36       0.64      ]\n",
      " [0.93       0.07      ]\n",
      " [0.         1.        ]\n",
      " [0.97       0.03      ]\n",
      " [0.95       0.05      ]\n",
      " [1.         0.        ]\n",
      " [1.         0.        ]\n",
      " [0.99444444 0.00555556]\n",
      " [1.         0.        ]\n",
      " [0.97       0.03      ]\n",
      " [0.7        0.3       ]\n",
      " [0.59       0.41      ]\n",
      " [0.32       0.68      ]\n",
      " [0.13       0.87      ]\n",
      " [0.06       0.94      ]\n",
      " [0.3225     0.6775    ]\n",
      " [0.97       0.03      ]\n",
      " [0.06       0.94      ]\n",
      " [0.97       0.03      ]\n",
      " [0.         1.        ]\n",
      " [0.85       0.15      ]\n",
      " [0.71       0.29      ]\n",
      " [0.77       0.23      ]\n",
      " [0.04       0.96      ]\n",
      " [0.89       0.11      ]\n",
      " [0.9025     0.0975    ]\n",
      " [0.81       0.19      ]\n",
      " [1.         0.        ]\n",
      " [0.05       0.95      ]\n",
      " [0.22       0.78      ]\n",
      " [0.05       0.95      ]\n",
      " [0.26       0.74      ]\n",
      " [0.32       0.68      ]\n",
      " [1.         0.        ]\n",
      " [0.07       0.93      ]\n",
      " [0.99       0.01      ]\n",
      " [1.         0.        ]\n",
      " [0.84       0.16      ]\n",
      " [0.22       0.78      ]\n",
      " [0.96       0.04      ]\n",
      " [0.12       0.88      ]\n",
      " [0.95       0.05      ]\n",
      " [0.90971429 0.09028571]\n",
      " [0.34083333 0.65916667]\n",
      " [0.99       0.01      ]\n",
      " [0.88378387 0.11621613]\n",
      " [0.93       0.07      ]\n",
      " [0.81083333 0.18916667]\n",
      " [0.18       0.82      ]\n",
      " [0.01       0.99      ]\n",
      " [0.97       0.03      ]\n",
      " [0.66       0.34      ]\n",
      " [0.80686508 0.19313492]\n",
      " [1.         0.        ]\n",
      " [0.04111111 0.95888889]\n",
      " [0.         1.        ]\n",
      " [0.13       0.87      ]\n",
      " [0.78       0.22      ]\n",
      " [0.73       0.27      ]\n",
      " [0.26       0.74      ]\n",
      " [0.94       0.06      ]\n",
      " [0.97       0.03      ]\n",
      " [0.15       0.85      ]\n",
      " [1.         0.        ]\n",
      " [1.         0.        ]\n",
      " [0.94166667 0.05833333]\n",
      " [0.99       0.01      ]\n",
      " [0.61       0.39      ]\n",
      " [0.92       0.08      ]\n",
      " [0.99       0.01      ]\n",
      " [0.17       0.83      ]\n",
      " [0.03       0.97      ]\n",
      " [1.         0.        ]\n",
      " [0.         1.        ]\n",
      " [0.05       0.95      ]\n",
      " [0.98       0.02      ]\n",
      " [0.35       0.65      ]\n",
      " [0.88       0.12      ]\n",
      " [0.99       0.01      ]\n",
      " [1.         0.        ]\n",
      " [0.01       0.99      ]\n",
      " [0.74085209 0.25914791]\n",
      " [0.39       0.61      ]\n",
      " [0.15       0.85      ]\n",
      " [1.         0.        ]\n",
      " [1.         0.        ]\n",
      " [0.04       0.96      ]\n",
      " [0.02       0.98      ]\n",
      " [0.24345747 0.75654253]\n",
      " [0.98733333 0.01266667]\n",
      " [0.37       0.63      ]\n",
      " [0.         1.        ]\n",
      " [0.07       0.93      ]\n",
      " [1.         0.        ]\n",
      " [1.         0.        ]\n",
      " [0.98333333 0.01666667]\n",
      " [0.11       0.89      ]\n",
      " [0.97       0.03      ]\n",
      " [0.83       0.17      ]\n",
      " [1.         0.        ]\n",
      " [1.         0.        ]\n",
      " [0.8        0.2       ]\n",
      " [0.18       0.82      ]\n",
      " [0.06833333 0.93166667]\n",
      " [0.9        0.1       ]\n",
      " [0.9        0.1       ]\n",
      " [0.78       0.22      ]\n",
      " [0.72766667 0.27233333]\n",
      " [0.84       0.16      ]\n",
      " [0.99       0.01      ]\n",
      " [0.08       0.92      ]\n",
      " [0.24222222 0.75777778]\n",
      " [1.         0.        ]\n",
      " [0.06       0.94      ]\n",
      " [0.9775     0.0225    ]\n",
      " [0.03396825 0.96603175]\n",
      " [0.88       0.12      ]\n",
      " [0.04       0.96      ]\n",
      " [0.42       0.58      ]\n",
      " [1.         0.        ]\n",
      " [0.63       0.37      ]\n",
      " [1.         0.        ]\n",
      " [0.05       0.95      ]\n",
      " [0.98       0.02      ]\n",
      " [0.         1.        ]\n",
      " [0.02       0.98      ]\n",
      " [0.02       0.98      ]\n",
      " [0.87333333 0.12666667]\n",
      " [0.74085209 0.25914791]\n",
      " [0.07       0.93      ]\n",
      " [0.02       0.98      ]\n",
      " [0.99       0.01      ]\n",
      " [0.87       0.13      ]\n",
      " [0.98       0.02      ]\n",
      " [0.05       0.95      ]\n",
      " [0.99       0.01      ]\n",
      " [1.         0.        ]\n",
      " [0.13775755 0.86224245]\n",
      " [0.99       0.01      ]\n",
      " [0.04139683 0.95860317]\n",
      " [0.         1.        ]\n",
      " [0.49       0.51      ]\n",
      " [0.63       0.37      ]\n",
      " [0.81       0.19      ]\n",
      " [0.94166667 0.05833333]\n",
      " [0.66       0.34      ]\n",
      " [1.         0.        ]\n",
      " [0.02       0.98      ]\n",
      " [0.07       0.93      ]\n",
      " [0.72766667 0.27233333]\n",
      " [0.99       0.01      ]\n",
      " [1.         0.        ]\n",
      " [0.91       0.09      ]\n",
      " [0.93       0.07      ]\n",
      " [0.975      0.025     ]\n",
      " [0.93       0.07      ]\n",
      " [1.         0.        ]\n",
      " [0.99       0.01      ]\n",
      " [0.94       0.06      ]\n",
      " [0.87       0.13      ]\n",
      " [0.24       0.76      ]\n",
      " [0.22       0.78      ]\n",
      " [0.71       0.29      ]\n",
      " [0.79454401 0.20545599]\n",
      " [1.         0.        ]\n",
      " [0.67       0.33      ]\n",
      " [0.99       0.01      ]\n",
      " [0.13       0.87      ]\n",
      " [0.88       0.12      ]\n",
      " [0.88       0.12      ]\n",
      " [0.98       0.02      ]\n",
      " [0.97       0.03      ]\n",
      " [0.98333333 0.01666667]\n",
      " [0.21       0.79      ]\n",
      " [0.97       0.03      ]\n",
      " [0.06       0.94      ]\n",
      " [0.95666667 0.04333333]\n",
      " [0.16       0.84      ]\n",
      " [0.80066667 0.19933333]\n",
      " [0.16       0.84      ]\n",
      " [1.         0.        ]\n",
      " [0.1        0.9       ]\n",
      " [0.24       0.76      ]\n",
      " [0.11       0.89      ]\n",
      " [0.89       0.11      ]\n",
      " [0.85       0.15      ]\n",
      " [0.14       0.86      ]\n",
      " [0.98       0.02      ]\n",
      " [0.99       0.01      ]\n",
      " [0.06       0.94      ]\n",
      " [1.         0.        ]\n",
      " [0.99       0.01      ]\n",
      " [1.         0.        ]\n",
      " [0.01       0.99      ]\n",
      " [1.         0.        ]\n",
      " [0.05       0.95      ]\n",
      " [0.28666667 0.71333333]\n",
      " [0.05       0.95      ]\n",
      " [0.98       0.02      ]\n",
      " [0.97       0.03      ]\n",
      " [1.         0.        ]\n",
      " [0.06       0.94      ]\n",
      " [0.36666667 0.63333333]\n",
      " [0.74       0.26      ]\n",
      " [0.98       0.02      ]\n",
      " [0.         1.        ]\n",
      " [0.5        0.5       ]\n",
      " [0.30790191 0.69209809]\n",
      " [0.04       0.96      ]\n",
      " [0.28       0.72      ]\n",
      " [0.51183333 0.48816667]\n",
      " [0.97       0.03      ]\n",
      " [0.86       0.14      ]\n",
      " [0.97       0.03      ]\n",
      " [0.95       0.05      ]\n",
      " [0.01       0.99      ]\n",
      " [1.         0.        ]\n",
      " [0.76       0.24      ]\n",
      " [0.47850794 0.52149206]\n",
      " [1.         0.        ]\n",
      " [0.06139683 0.93860317]\n",
      " [1.         0.        ]\n",
      " [0.87       0.13      ]\n",
      " [0.59       0.41      ]\n",
      " [0.99       0.01      ]\n",
      " [0.46       0.54      ]\n",
      " [1.         0.        ]\n",
      " [0.94666667 0.05333333]\n",
      " [0.8925     0.1075    ]\n",
      " [0.81       0.19      ]\n",
      " [0.37       0.63      ]\n",
      " [0.16       0.84      ]\n",
      " [0.96       0.04      ]\n",
      " [0.93       0.07      ]\n",
      " [0.81       0.19      ]\n",
      " [0.57083333 0.42916667]\n",
      " [0.71       0.29      ]]\n"
     ]
    }
   ],
   "source": [
    "print(\"Previsões de probabilidade:\")\n",
    "print(proba)"
   ]
  },
  {
   "cell_type": "code",
   "execution_count": 37,
   "metadata": {},
   "outputs": [
    {
     "name": "stdout",
     "output_type": "stream",
     "text": [
      "Matriz de Confusão:\n",
      "[[134  19]\n",
      " [ 32  82]]\n"
     ]
    }
   ],
   "source": [
    "from sklearn.metrics import confusion_matrix\n",
    "\n",
    "# Construir a matriz de confusão\n",
    "cm = confusion_matrix(y_test, y_pred)\n",
    "\n",
    "# Exibir a matriz de confusão\n",
    "print(\"Matriz de Confusão:\")\n",
    "print(cm)"
   ]
  },
  {
   "cell_type": "code",
   "execution_count": 38,
   "metadata": {},
   "outputs": [
    {
     "name": "stdout",
     "output_type": "stream",
     "text": [
      "[[0.17 0.83]\n",
      " [1.   0.  ]\n",
      " [1.   0.  ]\n",
      " ...\n",
      " [0.96 0.04]\n",
      " [0.98 0.02]\n",
      " [1.   0.  ]]\n"
     ]
    }
   ],
   "source": [
    "probs = model_rf.predict_proba(X_train)\n",
    "print(probs)"
   ]
  },
  {
   "cell_type": "code",
   "execution_count": 39,
   "metadata": {},
   "outputs": [
    {
     "name": "stdout",
     "output_type": "stream",
     "text": [
      "[[ 82  32]\n",
      " [ 19 134]]\n"
     ]
    }
   ],
   "source": [
    "from sklearn.metrics import confusion_matrix\n",
    "\n",
    "y_estimado = model_rf.predict(X_test)\n",
    "cm = confusion_matrix(y_test, y_estimado, labels=[1, 0])\n",
    "\n",
    "print(cm)"
   ]
  },
  {
   "cell_type": "code",
   "execution_count": 40,
   "metadata": {},
   "outputs": [
    {
     "name": "stdout",
     "output_type": "stream",
     "text": [
      "[[0.74       0.26      ]\n",
      " [0.02       0.98      ]\n",
      " [0.92       0.08      ]\n",
      " [0.06       0.94      ]\n",
      " [0.10892136 0.89107864]\n",
      " [1.         0.        ]\n",
      " [0.26       0.74      ]\n",
      " [0.99177778 0.00822222]\n",
      " [0.99       0.01      ]\n",
      " [0.07       0.93      ]\n",
      " [0.13775755 0.86224245]\n",
      " [0.62       0.38      ]\n",
      " [0.88378387 0.11621613]\n",
      " [0.7        0.3       ]\n",
      " [0.82       0.18      ]\n",
      " [0.43       0.57      ]\n",
      " [0.35271429 0.64728571]\n",
      " [0.51       0.49      ]\n",
      " [0.813      0.187     ]\n",
      " [0.         1.        ]\n",
      " [0.3        0.7       ]\n",
      " [0.02       0.98      ]\n",
      " [0.98       0.02      ]\n",
      " [0.925      0.075     ]\n",
      " [0.99       0.01      ]\n",
      " [1.         0.        ]\n",
      " [1.         0.        ]\n",
      " [0.06       0.94      ]\n",
      " [0.65       0.35      ]\n",
      " [0.97       0.03      ]\n",
      " [0.36       0.64      ]\n",
      " [0.93       0.07      ]\n",
      " [0.         1.        ]\n",
      " [0.97       0.03      ]\n",
      " [0.95       0.05      ]\n",
      " [1.         0.        ]\n",
      " [1.         0.        ]\n",
      " [0.99444444 0.00555556]\n",
      " [1.         0.        ]\n",
      " [0.97       0.03      ]\n",
      " [0.7        0.3       ]\n",
      " [0.59       0.41      ]\n",
      " [0.32       0.68      ]\n",
      " [0.13       0.87      ]\n",
      " [0.06       0.94      ]\n",
      " [0.3225     0.6775    ]\n",
      " [0.97       0.03      ]\n",
      " [0.06       0.94      ]\n",
      " [0.97       0.03      ]\n",
      " [0.         1.        ]\n",
      " [0.85       0.15      ]\n",
      " [0.71       0.29      ]\n",
      " [0.77       0.23      ]\n",
      " [0.04       0.96      ]\n",
      " [0.89       0.11      ]\n",
      " [0.9025     0.0975    ]\n",
      " [0.81       0.19      ]\n",
      " [1.         0.        ]\n",
      " [0.05       0.95      ]\n",
      " [0.22       0.78      ]\n",
      " [0.05       0.95      ]\n",
      " [0.26       0.74      ]\n",
      " [0.32       0.68      ]\n",
      " [1.         0.        ]\n",
      " [0.07       0.93      ]\n",
      " [0.99       0.01      ]\n",
      " [1.         0.        ]\n",
      " [0.84       0.16      ]\n",
      " [0.22       0.78      ]\n",
      " [0.96       0.04      ]\n",
      " [0.12       0.88      ]\n",
      " [0.95       0.05      ]\n",
      " [0.90971429 0.09028571]\n",
      " [0.34083333 0.65916667]\n",
      " [0.99       0.01      ]\n",
      " [0.88378387 0.11621613]\n",
      " [0.93       0.07      ]\n",
      " [0.81083333 0.18916667]\n",
      " [0.18       0.82      ]\n",
      " [0.01       0.99      ]\n",
      " [0.97       0.03      ]\n",
      " [0.66       0.34      ]\n",
      " [0.80686508 0.19313492]\n",
      " [1.         0.        ]\n",
      " [0.04111111 0.95888889]\n",
      " [0.         1.        ]\n",
      " [0.13       0.87      ]\n",
      " [0.78       0.22      ]\n",
      " [0.73       0.27      ]\n",
      " [0.26       0.74      ]\n",
      " [0.94       0.06      ]\n",
      " [0.97       0.03      ]\n",
      " [0.15       0.85      ]\n",
      " [1.         0.        ]\n",
      " [1.         0.        ]\n",
      " [0.94166667 0.05833333]\n",
      " [0.99       0.01      ]\n",
      " [0.61       0.39      ]\n",
      " [0.92       0.08      ]\n",
      " [0.99       0.01      ]\n",
      " [0.17       0.83      ]\n",
      " [0.03       0.97      ]\n",
      " [1.         0.        ]\n",
      " [0.         1.        ]\n",
      " [0.05       0.95      ]\n",
      " [0.98       0.02      ]\n",
      " [0.35       0.65      ]\n",
      " [0.88       0.12      ]\n",
      " [0.99       0.01      ]\n",
      " [1.         0.        ]\n",
      " [0.01       0.99      ]\n",
      " [0.74085209 0.25914791]\n",
      " [0.39       0.61      ]\n",
      " [0.15       0.85      ]\n",
      " [1.         0.        ]\n",
      " [1.         0.        ]\n",
      " [0.04       0.96      ]\n",
      " [0.02       0.98      ]\n",
      " [0.24345747 0.75654253]\n",
      " [0.98733333 0.01266667]\n",
      " [0.37       0.63      ]\n",
      " [0.         1.        ]\n",
      " [0.07       0.93      ]\n",
      " [1.         0.        ]\n",
      " [1.         0.        ]\n",
      " [0.98333333 0.01666667]\n",
      " [0.11       0.89      ]\n",
      " [0.97       0.03      ]\n",
      " [0.83       0.17      ]\n",
      " [1.         0.        ]\n",
      " [1.         0.        ]\n",
      " [0.8        0.2       ]\n",
      " [0.18       0.82      ]\n",
      " [0.06833333 0.93166667]\n",
      " [0.9        0.1       ]\n",
      " [0.9        0.1       ]\n",
      " [0.78       0.22      ]\n",
      " [0.72766667 0.27233333]\n",
      " [0.84       0.16      ]\n",
      " [0.99       0.01      ]\n",
      " [0.08       0.92      ]\n",
      " [0.24222222 0.75777778]\n",
      " [1.         0.        ]\n",
      " [0.06       0.94      ]\n",
      " [0.9775     0.0225    ]\n",
      " [0.03396825 0.96603175]\n",
      " [0.88       0.12      ]\n",
      " [0.04       0.96      ]\n",
      " [0.42       0.58      ]\n",
      " [1.         0.        ]\n",
      " [0.63       0.37      ]\n",
      " [1.         0.        ]\n",
      " [0.05       0.95      ]\n",
      " [0.98       0.02      ]\n",
      " [0.         1.        ]\n",
      " [0.02       0.98      ]\n",
      " [0.02       0.98      ]\n",
      " [0.87333333 0.12666667]\n",
      " [0.74085209 0.25914791]\n",
      " [0.07       0.93      ]\n",
      " [0.02       0.98      ]\n",
      " [0.99       0.01      ]\n",
      " [0.87       0.13      ]\n",
      " [0.98       0.02      ]\n",
      " [0.05       0.95      ]\n",
      " [0.99       0.01      ]\n",
      " [1.         0.        ]\n",
      " [0.13775755 0.86224245]\n",
      " [0.99       0.01      ]\n",
      " [0.04139683 0.95860317]\n",
      " [0.         1.        ]\n",
      " [0.49       0.51      ]\n",
      " [0.63       0.37      ]\n",
      " [0.81       0.19      ]\n",
      " [0.94166667 0.05833333]\n",
      " [0.66       0.34      ]\n",
      " [1.         0.        ]\n",
      " [0.02       0.98      ]\n",
      " [0.07       0.93      ]\n",
      " [0.72766667 0.27233333]\n",
      " [0.99       0.01      ]\n",
      " [1.         0.        ]\n",
      " [0.91       0.09      ]\n",
      " [0.93       0.07      ]\n",
      " [0.975      0.025     ]\n",
      " [0.93       0.07      ]\n",
      " [1.         0.        ]\n",
      " [0.99       0.01      ]\n",
      " [0.94       0.06      ]\n",
      " [0.87       0.13      ]\n",
      " [0.24       0.76      ]\n",
      " [0.22       0.78      ]\n",
      " [0.71       0.29      ]\n",
      " [0.79454401 0.20545599]\n",
      " [1.         0.        ]\n",
      " [0.67       0.33      ]\n",
      " [0.99       0.01      ]\n",
      " [0.13       0.87      ]\n",
      " [0.88       0.12      ]\n",
      " [0.88       0.12      ]\n",
      " [0.98       0.02      ]\n",
      " [0.97       0.03      ]\n",
      " [0.98333333 0.01666667]\n",
      " [0.21       0.79      ]\n",
      " [0.97       0.03      ]\n",
      " [0.06       0.94      ]\n",
      " [0.95666667 0.04333333]\n",
      " [0.16       0.84      ]\n",
      " [0.80066667 0.19933333]\n",
      " [0.16       0.84      ]\n",
      " [1.         0.        ]\n",
      " [0.1        0.9       ]\n",
      " [0.24       0.76      ]\n",
      " [0.11       0.89      ]\n",
      " [0.89       0.11      ]\n",
      " [0.85       0.15      ]\n",
      " [0.14       0.86      ]\n",
      " [0.98       0.02      ]\n",
      " [0.99       0.01      ]\n",
      " [0.06       0.94      ]\n",
      " [1.         0.        ]\n",
      " [0.99       0.01      ]\n",
      " [1.         0.        ]\n",
      " [0.01       0.99      ]\n",
      " [1.         0.        ]\n",
      " [0.05       0.95      ]\n",
      " [0.28666667 0.71333333]\n",
      " [0.05       0.95      ]\n",
      " [0.98       0.02      ]\n",
      " [0.97       0.03      ]\n",
      " [1.         0.        ]\n",
      " [0.06       0.94      ]\n",
      " [0.36666667 0.63333333]\n",
      " [0.74       0.26      ]\n",
      " [0.98       0.02      ]\n",
      " [0.         1.        ]\n",
      " [0.5        0.5       ]\n",
      " [0.30790191 0.69209809]\n",
      " [0.04       0.96      ]\n",
      " [0.28       0.72      ]\n",
      " [0.51183333 0.48816667]\n",
      " [0.97       0.03      ]\n",
      " [0.86       0.14      ]\n",
      " [0.97       0.03      ]\n",
      " [0.95       0.05      ]\n",
      " [0.01       0.99      ]\n",
      " [1.         0.        ]\n",
      " [0.76       0.24      ]\n",
      " [0.47850794 0.52149206]\n",
      " [1.         0.        ]\n",
      " [0.06139683 0.93860317]\n",
      " [1.         0.        ]\n",
      " [0.87       0.13      ]\n",
      " [0.59       0.41      ]\n",
      " [0.99       0.01      ]\n",
      " [0.46       0.54      ]\n",
      " [1.         0.        ]\n",
      " [0.94666667 0.05333333]\n",
      " [0.8925     0.1075    ]\n",
      " [0.81       0.19      ]\n",
      " [0.37       0.63      ]\n",
      " [0.16       0.84      ]\n",
      " [0.96       0.04      ]\n",
      " [0.93       0.07      ]\n",
      " [0.81       0.19      ]\n",
      " [0.57083333 0.42916667]\n",
      " [0.71       0.29      ]]\n"
     ]
    }
   ],
   "source": [
    "y_proba = model_rf.predict_proba(X_test)\n",
    "print(y_proba)"
   ]
  },
  {
   "cell_type": "code",
   "execution_count": 41,
   "metadata": {},
   "outputs": [
    {
     "name": "stdout",
     "output_type": "stream",
     "text": [
      "              precision    recall  f1-score   support\n",
      "\n",
      "           0       0.88      0.81      0.84       166\n",
      "           1       0.72      0.81      0.76       101\n",
      "\n",
      "    accuracy                           0.81       267\n",
      "   macro avg       0.80      0.81      0.80       267\n",
      "weighted avg       0.82      0.81      0.81       267\n",
      "\n"
     ]
    }
   ],
   "source": [
    "from sklearn.metrics import classification_report, precision_score\n",
    "\n",
    "print(classification_report(y_estimado, y_test))"
   ]
  },
  {
   "cell_type": "code",
   "execution_count": 42,
   "metadata": {},
   "outputs": [
    {
     "name": "stdout",
     "output_type": "stream",
     "text": [
      "81.66%\n"
     ]
    }
   ],
   "source": [
    "precision = precision_score(y_estimado, y_test, average='weighted')\n",
    "precision_percent = precision * 100\n",
    "formatted_precision = \"{:.2f}%\".format(precision_percent)\n",
    "\n",
    "print(formatted_precision)"
   ]
  },
  {
   "cell_type": "code",
   "execution_count": 43,
   "metadata": {},
   "outputs": [
    {
     "name": "stdout",
     "output_type": "stream",
     "text": [
      "Feature: Survived, Importância: 31.20%\n",
      "Feature: Name, Importância: 3.70%\n",
      "Feature: Age, Importância: 37.58%\n",
      "Feature: SibSp, Importância: 27.51%\n"
     ]
    }
   ],
   "source": [
    "column_names = list(df.columns)\n",
    "feature_importance = model_rf.feature_importances_\n",
    "\n",
    "features = zip(column_names, feature_importance * 100)\n",
    "\n",
    "for feature in features:\n",
    "    print(f\"Feature: {feature[0]}, Importância: {feature[1]:.2f}%\")"
   ]
  },
  {
   "cell_type": "code",
   "execution_count": 44,
   "metadata": {},
   "outputs": [],
   "source": [
    "features = dict(features)\n",
    "features = pd.DataFrame.from_dict(features, orient='index', columns=['Importância'])\n",
    "features = features.sort_values('Importância', ascending=False).head(5)"
   ]
  },
  {
   "cell_type": "code",
   "execution_count": 45,
   "metadata": {},
   "outputs": [
    {
     "data": {
      "image/png": "[encoded data removed]",
      "text/plain": [
       "<Figure size 640x480 with 1 Axes>"
      ]
     },
     "metadata": {},
     "output_type": "display_data"
    }
   ],
   "source": [
    "import matplotlib.pyplot as plt\n",
    "\n",
    "# Colunas desejadas\n",
    "data_plot = df[['Age', 'Fare', 'Survived']]\n",
    "\n",
    "# DataFrame divido em duas partes com base na classe (sobrevivente ou não)\n",
    "survived = data_plot[data_plot['Survived'] == 1]\n",
    "not_survived = data_plot[data_plot['Survived'] == 0]\n",
    "\n",
    "# Plotar o scatterplot\n",
    "plt.scatter(survived['Age'], survived['Fare'], color='green', label='Survived')\n",
    "plt.scatter(not_survived['Age'], not_survived['Fare'], color='red', label='Not Survived')\n",
    "\n",
    "# Rótulos e título do gráfico\n",
    "plt.xlabel('Age')\n",
    "plt.ylabel('Fare')\n",
    "plt.title('Scatterplot of Age vs Fare')\n",
    "\n",
    "# Adicionar legenda\n",
    "plt.legend()\n",
    "\n",
    "# Exibir o gráfico\n",
    "plt.show()"
   ]
  },
  {
   "cell_type": "code",
   "execution_count": 46,
   "metadata": {},
   "outputs": [],
   "source": [
    "# Separar as características e o alvo\n",
    "X = df[['Age', 'Fare', 'SibSp', 'Pclass_2']]\n",
    "y = df['Survived']"
   ]
  },
  {
   "cell_type": "code",
   "execution_count": 47,
   "metadata": {},
   "outputs": [],
   "source": [
    "# Dividir os dados em conjunto de treinamento e teste\n",
    "X_train, X_test, y_train, y_test = train_test_split(X, y, test_size=0.3, random_state=42)"
   ]
  },
  {
   "cell_type": "code",
   "execution_count": 48,
   "metadata": {},
   "outputs": [],
   "source": [
    "# Instancia do modelo com os hiperparâmetros desejados\n",
    "model_rf = RandomForestClassifier(n_estimators=100, max_depth=5, random_state=42)"
   ]
  },
  {
   "cell_type": "code",
   "execution_count": 49,
   "metadata": {},
   "outputs": [
    {
     "data": {
      "text/plain": [
       "RandomForestClassifier(max_depth=5, random_state=42)"
      ]
     },
     "execution_count": 49,
     "metadata": {},
     "output_type": "execute_result"
    }
   ],
   "source": [
    "# Treino do modelo com as features selecionadas\n",
    "model_rf.fit(X_train, y_train)"
   ]
  },
  {
   "cell_type": "code",
   "execution_count": 50,
   "metadata": {},
   "outputs": [],
   "source": [
    "# Predições no conjunto de teste\n",
    "y_pred = model_rf.predict(X_test)"
   ]
  },
  {
   "cell_type": "code",
   "execution_count": 51,
   "metadata": {},
   "outputs": [
    {
     "name": "stdout",
     "output_type": "stream",
     "text": [
      "[[151  16]\n",
      " [ 64  36]]\n"
     ]
    }
   ],
   "source": [
    "# Matriz de confusão\n",
    "cm = confusion_matrix(y_test, y_pred)\n",
    "print(cm)"
   ]
  },
  {
   "cell_type": "code",
   "execution_count": 52,
   "metadata": {},
   "outputs": [],
   "source": [
    "# Ajuste de hiperparâmetros\n",
    "#model_rf = RandomForestClassifier(n_estimators=100, max_depth=10, min_samples_split=2)\n",
    "#model_rf.fit(X_train, y_train)\n",
    "#y_pred = model_rf.predict(X_test)\n",
    "#cm = confusion_matrix(y_test, y_pred)\n",
    "#print(cm)"
   ]
  },
  {
   "cell_type": "markdown",
   "metadata": {},
   "source": [
    "### Calcule a área da curva [ROC](https://scikit-learn.org/stable/modules/generated/sklearn.metrics.roc_auc_score.html) para os dois modelos\n",
    "   - Dica: Você querer [visualizar a área da curva ROC]\n",
    "   - Dica: Para o cálculo da área da curva roc é necessário passar como parâmetro as probabilidades, ou seja, utilize o método predict_proba() das predições"
   ]
  },
  {
   "cell_type": "code",
   "execution_count": 53,
   "metadata": {
    "scrolled": false
   },
   "outputs": [
    {
     "name": "stdout",
     "output_type": "stream",
     "text": [
      "ROC DecisionTreeClassifier: 0.5235029940119761\n",
      "ROC RandomForestClassifier: 0.7447005988023953\n"
     ]
    },
    {
     "name": "stderr",
     "output_type": "stream",
     "text": [
      "C:\\ProgramData\\Anaconda3\\lib\\site-packages\\sklearn\\base.py:493: FutureWarning: The feature names should match those that were passed during fit. Starting version 1.2, an error will be raised.\n",
      "Feature names unseen at fit time:\n",
      "- SibSp\n",
      "Feature names seen at fit time, yet now missing:\n",
      "- Sex_1\n",
      "\n",
      "  warnings.warn(message, FutureWarning)\n"
     ]
    }
   ],
   "source": [
    "    from sklearn.metrics import roc_auc_score\n",
    "\n",
    "    # DecisionTree\n",
    "    X_test_selected = X_test[['Age', 'Fare', 'SibSp']]\n",
    "    y_pred_dt = model_dt.predict_proba(X_test)[:, 1]\n",
    "    roc_auc_dt = roc_auc_score(y_test, y_pred_dt)\n",
    "    print(\"ROC DecisionTreeClassifier:\", roc_auc_dt)\n",
    "\n",
    "    # RandomForest\n",
    "    y_pred_rf = model_rf.predict_proba(X_test)[:, 1]\n",
    "    roc_auc_rf = roc_auc_score(y_test, y_pred_rf)\n",
    "    print(\"ROC RandomForestClassifier:\", roc_auc_rf)"
   ]
  },
  {
   "cell_type": "markdown",
   "metadata": {},
   "source": [
    "### ***Challenge:*** Tente encontrar o melhor threshold que melhora a performance do modelos"
   ]
  },
  {
   "cell_type": "code",
   "execution_count": null,
   "metadata": {},
   "outputs": [],
   "source": []
  },
  {
   "cell_type": "markdown",
   "metadata": {},
   "source": [
    "### *Challenge:* [Visualize a árvore de decisão](https://scikit-learn.org/stable/modules/generated/sklearn.tree.plot_tree.html)"
   ]
  },
  {
   "cell_type": "code",
   "execution_count": null,
   "metadata": {},
   "outputs": [],
   "source": []
  }
 ],
 "metadata": {
  "anaconda-cloud": {},
  "kernelspec": {
   "display_name": "Python 3 (ipykernel)",
   "language": "python",
   "name": "python3"
  },
  "language_info": {
   "codemirror_mode": {
    "name": "ipython",
    "version": 3
   },
   "file_extension": ".py",
   "mimetype": "text/x-python",
   "name": "python",
   "nbconvert_exporter": "python",
   "pygments_lexer": "ipython3",
   "version": "3.9.13"
  }
 },
 "nbformat": 4,
 "nbformat_minor": 4
}
