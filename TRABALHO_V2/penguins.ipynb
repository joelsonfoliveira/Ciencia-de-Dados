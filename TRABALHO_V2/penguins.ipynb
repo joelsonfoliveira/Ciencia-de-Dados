{
 "cells": [
  {
   "cell_type": "markdown",
   "metadata": {},
   "source": [
    "## penguins.csv"
   ]
  },
  {
   "cell_type": "markdown",
   "metadata": {},
   "source": [
    "### 1. Importação"
   ]
  },
  {
   "cell_type": "code",
   "execution_count": 1,
   "metadata": {
    "execution": {
     "iopub.execute_input": "2023-04-04T15:56:24.064957Z",
     "iopub.status.busy": "2023-04-04T15:56:24.06444Z",
     "iopub.status.idle": "2023-04-04T15:56:25.374784Z",
     "shell.execute_reply": "2023-04-04T15:56:25.373699Z",
     "shell.execute_reply.started": "2023-04-04T15:56:24.064919Z"
    }
   },
   "outputs": [],
   "source": [
    "import pandas as pd\n",
    "import seaborn as sns\n",
    "import matplotlib.pyplot as plt"
   ]
  },
  {
   "cell_type": "markdown",
   "metadata": {},
   "source": [
    "### 2. Leitura do dataset"
   ]
  },
  {
   "cell_type": "code",
   "execution_count": 2,
   "metadata": {
    "execution": {
     "iopub.execute_input": "2023-04-04T15:56:25.386038Z",
     "iopub.status.busy": "2023-04-04T15:56:25.385594Z",
     "iopub.status.idle": "2023-04-04T15:56:25.416479Z",
     "shell.execute_reply": "2023-04-04T15:56:25.415309Z",
     "shell.execute_reply.started": "2023-04-04T15:56:25.385986Z"
    }
   },
   "outputs": [],
   "source": [
    "df = pd.read_csv('penguins.csv')"
   ]
  },
  {
   "cell_type": "code",
   "execution_count": 3,
   "metadata": {
    "execution": {
     "iopub.execute_input": "2023-04-04T15:56:25.566085Z",
     "iopub.status.busy": "2023-04-04T15:56:25.56561Z",
     "iopub.status.idle": "2023-04-04T15:56:25.608339Z",
     "shell.execute_reply": "2023-04-04T15:56:25.607097Z",
     "shell.execute_reply.started": "2023-04-04T15:56:25.566049Z"
    }
   },
   "outputs": [
    {
     "data": {
      "text/html": [
       "<div>\n",
       "<style scoped>\n",
       "    .dataframe tbody tr th:only-of-type {\n",
       "        vertical-align: middle;\n",
       "    }\n",
       "\n",
       "    .dataframe tbody tr th {\n",
       "        vertical-align: top;\n",
       "    }\n",
       "\n",
       "    .dataframe thead th {\n",
       "        text-align: right;\n",
       "    }\n",
       "</style>\n",
       "<table border=\"1\" class=\"dataframe\">\n",
       "  <thead>\n",
       "    <tr style=\"text-align: right;\">\n",
       "      <th></th>\n",
       "      <th>species</th>\n",
       "      <th>island</th>\n",
       "      <th>culmen_length_mm</th>\n",
       "      <th>culmen_depth_mm</th>\n",
       "      <th>flipper_length_mm</th>\n",
       "      <th>body_mass_g</th>\n",
       "      <th>sex</th>\n",
       "    </tr>\n",
       "  </thead>\n",
       "  <tbody>\n",
       "    <tr>\n",
       "      <th>0</th>\n",
       "      <td>0.0</td>\n",
       "      <td>2.0</td>\n",
       "      <td>39.1</td>\n",
       "      <td>18.7</td>\n",
       "      <td>181.0</td>\n",
       "      <td>3750.0</td>\n",
       "      <td>1.0</td>\n",
       "    </tr>\n",
       "    <tr>\n",
       "      <th>1</th>\n",
       "      <td>0.0</td>\n",
       "      <td>2.0</td>\n",
       "      <td>39.5</td>\n",
       "      <td>17.4</td>\n",
       "      <td>186.0</td>\n",
       "      <td>3800.0</td>\n",
       "      <td>0.0</td>\n",
       "    </tr>\n",
       "    <tr>\n",
       "      <th>2</th>\n",
       "      <td>0.0</td>\n",
       "      <td>2.0</td>\n",
       "      <td>40.3</td>\n",
       "      <td>18.0</td>\n",
       "      <td>195.0</td>\n",
       "      <td>3250.0</td>\n",
       "      <td>0.0</td>\n",
       "    </tr>\n",
       "    <tr>\n",
       "      <th>3</th>\n",
       "      <td>0.0</td>\n",
       "      <td>2.0</td>\n",
       "      <td>36.7</td>\n",
       "      <td>19.3</td>\n",
       "      <td>193.0</td>\n",
       "      <td>3450.0</td>\n",
       "      <td>0.0</td>\n",
       "    </tr>\n",
       "    <tr>\n",
       "      <th>4</th>\n",
       "      <td>0.0</td>\n",
       "      <td>2.0</td>\n",
       "      <td>39.3</td>\n",
       "      <td>20.6</td>\n",
       "      <td>190.0</td>\n",
       "      <td>3650.0</td>\n",
       "      <td>1.0</td>\n",
       "    </tr>\n",
       "    <tr>\n",
       "      <th>...</th>\n",
       "      <td>...</td>\n",
       "      <td>...</td>\n",
       "      <td>...</td>\n",
       "      <td>...</td>\n",
       "      <td>...</td>\n",
       "      <td>...</td>\n",
       "      <td>...</td>\n",
       "    </tr>\n",
       "    <tr>\n",
       "      <th>328</th>\n",
       "      <td>2.0</td>\n",
       "      <td>0.0</td>\n",
       "      <td>47.2</td>\n",
       "      <td>13.7</td>\n",
       "      <td>214.0</td>\n",
       "      <td>4925.0</td>\n",
       "      <td>0.0</td>\n",
       "    </tr>\n",
       "    <tr>\n",
       "      <th>329</th>\n",
       "      <td>2.0</td>\n",
       "      <td>0.0</td>\n",
       "      <td>46.8</td>\n",
       "      <td>14.3</td>\n",
       "      <td>215.0</td>\n",
       "      <td>4850.0</td>\n",
       "      <td>0.0</td>\n",
       "    </tr>\n",
       "    <tr>\n",
       "      <th>330</th>\n",
       "      <td>2.0</td>\n",
       "      <td>0.0</td>\n",
       "      <td>50.4</td>\n",
       "      <td>15.7</td>\n",
       "      <td>222.0</td>\n",
       "      <td>5750.0</td>\n",
       "      <td>1.0</td>\n",
       "    </tr>\n",
       "    <tr>\n",
       "      <th>331</th>\n",
       "      <td>2.0</td>\n",
       "      <td>0.0</td>\n",
       "      <td>45.2</td>\n",
       "      <td>14.8</td>\n",
       "      <td>212.0</td>\n",
       "      <td>5200.0</td>\n",
       "      <td>0.0</td>\n",
       "    </tr>\n",
       "    <tr>\n",
       "      <th>332</th>\n",
       "      <td>2.0</td>\n",
       "      <td>0.0</td>\n",
       "      <td>49.9</td>\n",
       "      <td>16.1</td>\n",
       "      <td>213.0</td>\n",
       "      <td>5400.0</td>\n",
       "      <td>1.0</td>\n",
       "    </tr>\n",
       "  </tbody>\n",
       "</table>\n",
       "<p>333 rows × 7 columns</p>\n",
       "</div>"
      ],
      "text/plain": [
       "     species  island  culmen_length_mm  culmen_depth_mm  flipper_length_mm  \\\n",
       "0        0.0     2.0              39.1             18.7              181.0   \n",
       "1        0.0     2.0              39.5             17.4              186.0   \n",
       "2        0.0     2.0              40.3             18.0              195.0   \n",
       "3        0.0     2.0              36.7             19.3              193.0   \n",
       "4        0.0     2.0              39.3             20.6              190.0   \n",
       "..       ...     ...               ...              ...                ...   \n",
       "328      2.0     0.0              47.2             13.7              214.0   \n",
       "329      2.0     0.0              46.8             14.3              215.0   \n",
       "330      2.0     0.0              50.4             15.7              222.0   \n",
       "331      2.0     0.0              45.2             14.8              212.0   \n",
       "332      2.0     0.0              49.9             16.1              213.0   \n",
       "\n",
       "     body_mass_g  sex  \n",
       "0         3750.0  1.0  \n",
       "1         3800.0  0.0  \n",
       "2         3250.0  0.0  \n",
       "3         3450.0  0.0  \n",
       "4         3650.0  1.0  \n",
       "..           ...  ...  \n",
       "328       4925.0  0.0  \n",
       "329       4850.0  0.0  \n",
       "330       5750.0  1.0  \n",
       "331       5200.0  0.0  \n",
       "332       5400.0  1.0  \n",
       "\n",
       "[333 rows x 7 columns]"
      ]
     },
     "execution_count": 3,
     "metadata": {},
     "output_type": "execute_result"
    }
   ],
   "source": [
    "df"
   ]
  },
  {
   "cell_type": "markdown",
   "metadata": {},
   "source": [
    "### 3. Definir um dataframe para cada especie"
   ]
  },
  {
   "cell_type": "code",
   "execution_count": 4,
   "metadata": {
    "execution": {
     "iopub.execute_input": "2023-04-04T15:56:25.672362Z",
     "iopub.status.busy": "2023-04-04T15:56:25.67191Z",
     "iopub.status.idle": "2023-04-04T15:56:25.684972Z",
     "shell.execute_reply": "2023-04-04T15:56:25.683736Z",
     "shell.execute_reply.started": "2023-04-04T15:56:25.672326Z"
    }
   },
   "outputs": [
    {
     "data": {
      "text/plain": [
       "array([0., 1., 2.])"
      ]
     },
     "execution_count": 4,
     "metadata": {},
     "output_type": "execute_result"
    }
   ],
   "source": [
    "df['species'].unique()"
   ]
  },
  {
   "cell_type": "code",
   "execution_count": 5,
   "metadata": {
    "execution": {
     "iopub.execute_input": "2023-04-04T15:56:25.687337Z",
     "iopub.status.busy": "2023-04-04T15:56:25.6868Z",
     "iopub.status.idle": "2023-04-04T15:56:25.695435Z",
     "shell.execute_reply": "2023-04-04T15:56:25.693977Z",
     "shell.execute_reply.started": "2023-04-04T15:56:25.687223Z"
    }
   },
   "outputs": [],
   "source": [
    "filt = (df['species'] == 'Adelie')\n",
    "df_adelie = df.loc[filt]"
   ]
  },
  {
   "cell_type": "code",
   "execution_count": 6,
   "metadata": {
    "execution": {
     "iopub.execute_input": "2023-04-04T15:56:25.697772Z",
     "iopub.status.busy": "2023-04-04T15:56:25.697272Z",
     "iopub.status.idle": "2023-04-04T15:56:25.709781Z",
     "shell.execute_reply": "2023-04-04T15:56:25.708624Z",
     "shell.execute_reply.started": "2023-04-04T15:56:25.697721Z"
    }
   },
   "outputs": [],
   "source": [
    "filt = (df['species'] == 'Gentoo')\n",
    "df_gentoo = df.loc[filt]"
   ]
  },
  {
   "cell_type": "code",
   "execution_count": 7,
   "metadata": {
    "execution": {
     "iopub.execute_input": "2023-04-04T15:56:25.713139Z",
     "iopub.status.busy": "2023-04-04T15:56:25.712785Z",
     "iopub.status.idle": "2023-04-04T15:56:25.721281Z",
     "shell.execute_reply": "2023-04-04T15:56:25.720032Z",
     "shell.execute_reply.started": "2023-04-04T15:56:25.713099Z"
    }
   },
   "outputs": [],
   "source": [
    "filt = (df['species'] == 'Chinstrap')\n",
    "df_chinstrap = df.loc[filt]"
   ]
  },
  {
   "cell_type": "markdown",
   "metadata": {},
   "source": [
    "### 4. Exploração"
   ]
  },
  {
   "cell_type": "code",
   "execution_count": 8,
   "metadata": {
    "execution": {
     "iopub.execute_input": "2023-04-04T15:56:25.723391Z",
     "iopub.status.busy": "2023-04-04T15:56:25.723063Z",
     "iopub.status.idle": "2023-04-04T15:56:25.736484Z",
     "shell.execute_reply": "2023-04-04T15:56:25.735314Z",
     "shell.execute_reply.started": "2023-04-04T15:56:25.723362Z"
    }
   },
   "outputs": [
    {
     "data": {
      "text/plain": [
       "(333, 7)"
      ]
     },
     "execution_count": 8,
     "metadata": {},
     "output_type": "execute_result"
    }
   ],
   "source": [
    "df.shape"
   ]
  },
  {
   "cell_type": "code",
   "execution_count": 9,
   "metadata": {
    "execution": {
     "iopub.execute_input": "2023-04-04T15:56:25.738651Z",
     "iopub.status.busy": "2023-04-04T15:56:25.738167Z",
     "iopub.status.idle": "2023-04-04T15:56:25.751137Z",
     "shell.execute_reply": "2023-04-04T15:56:25.749824Z",
     "shell.execute_reply.started": "2023-04-04T15:56:25.738606Z"
    }
   },
   "outputs": [
    {
     "data": {
      "text/plain": [
       "0.0    146\n",
       "2.0    119\n",
       "1.0     68\n",
       "Name: species, dtype: int64"
      ]
     },
     "execution_count": 9,
     "metadata": {},
     "output_type": "execute_result"
    }
   ],
   "source": [
    "df['species'].value_counts()"
   ]
  },
  {
   "cell_type": "code",
   "execution_count": 10,
   "metadata": {
    "execution": {
     "iopub.execute_input": "2023-04-04T15:56:25.752641Z",
     "iopub.status.busy": "2023-04-04T15:56:25.752117Z",
     "iopub.status.idle": "2023-04-04T15:56:25.766073Z",
     "shell.execute_reply": "2023-04-04T15:56:25.764796Z",
     "shell.execute_reply.started": "2023-04-04T15:56:25.752591Z"
    }
   },
   "outputs": [
    {
     "data": {
      "text/plain": [
       "species              0\n",
       "island               0\n",
       "culmen_length_mm     0\n",
       "culmen_depth_mm      0\n",
       "flipper_length_mm    0\n",
       "body_mass_g          0\n",
       "sex                  0\n",
       "dtype: int64"
      ]
     },
     "execution_count": 10,
     "metadata": {},
     "output_type": "execute_result"
    }
   ],
   "source": [
    "df.isnull().sum(axis=0)"
   ]
  },
  {
   "cell_type": "code",
   "execution_count": 11,
   "metadata": {
    "execution": {
     "iopub.execute_input": "2023-04-04T15:56:25.768314Z",
     "iopub.status.busy": "2023-04-04T15:56:25.76751Z",
     "iopub.status.idle": "2023-04-04T15:56:25.781771Z",
     "shell.execute_reply": "2023-04-04T15:56:25.780302Z",
     "shell.execute_reply.started": "2023-04-04T15:56:25.768274Z"
    }
   },
   "outputs": [
    {
     "data": {
      "text/plain": [
       "culmen_length_mm     0.045340\n",
       "culmen_depth_mm     -0.149720\n",
       "flipper_length_mm    0.360148\n",
       "body_mass_g          0.472246\n",
       "dtype: float64"
      ]
     },
     "execution_count": 11,
     "metadata": {},
     "output_type": "execute_result"
    }
   ],
   "source": [
    "df.drop(['species', 'island', 'sex'], axis=1).skew()"
   ]
  },
  {
   "cell_type": "code",
   "execution_count": 12,
   "metadata": {
    "execution": {
     "iopub.execute_input": "2023-04-04T15:56:25.784527Z",
     "iopub.status.busy": "2023-04-04T15:56:25.783344Z",
     "iopub.status.idle": "2023-04-04T15:56:25.796566Z",
     "shell.execute_reply": "2023-04-04T15:56:25.795295Z",
     "shell.execute_reply.started": "2023-04-04T15:56:25.784479Z"
    }
   },
   "outputs": [
    {
     "data": {
      "text/plain": [
       "culmen_length_mm    -0.883418\n",
       "culmen_depth_mm     -0.891960\n",
       "flipper_length_mm   -0.961241\n",
       "body_mass_g         -0.733489\n",
       "dtype: float64"
      ]
     },
     "execution_count": 12,
     "metadata": {},
     "output_type": "execute_result"
    }
   ],
   "source": [
    "df.drop(['species', 'island', 'sex'], axis=1).kurt()"
   ]
  },
  {
   "cell_type": "code",
   "execution_count": 13,
   "metadata": {
    "execution": {
     "iopub.execute_input": "2023-04-04T15:56:25.798596Z",
     "iopub.status.busy": "2023-04-04T15:56:25.797832Z",
     "iopub.status.idle": "2023-04-04T15:56:25.820249Z",
     "shell.execute_reply": "2023-04-04T15:56:25.815806Z",
     "shell.execute_reply.started": "2023-04-04T15:56:25.79855Z"
    }
   },
   "outputs": [
    {
     "name": "stdout",
     "output_type": "stream",
     "text": [
      "<class 'pandas.core.frame.DataFrame'>\n",
      "RangeIndex: 333 entries, 0 to 332\n",
      "Data columns (total 7 columns):\n",
      " #   Column             Non-Null Count  Dtype  \n",
      "---  ------             --------------  -----  \n",
      " 0   species            333 non-null    float64\n",
      " 1   island             333 non-null    float64\n",
      " 2   culmen_length_mm   333 non-null    float64\n",
      " 3   culmen_depth_mm    333 non-null    float64\n",
      " 4   flipper_length_mm  333 non-null    float64\n",
      " 5   body_mass_g        333 non-null    float64\n",
      " 6   sex                333 non-null    float64\n",
      "dtypes: float64(7)\n",
      "memory usage: 18.3 KB\n"
     ]
    }
   ],
   "source": [
    "df.info()"
   ]
  },
  {
   "cell_type": "markdown",
   "metadata": {},
   "source": [
    "### 5. Análise\n",
    "- Os pinguins Adelie são os que mais aparecem no conjunto de dados, seguidos pelas espécies Gentoo e Chinstrap.\n",
    "- Os pinguins da amostra estão equilibrados em termos de sexo, existem exatamente 50% de dados masculinos e 50% de dados femininos.\n",
    "- Metade dos pinguins está na Ilha Biscoe, uma minoria está na Ilha Torgersen e o restante está na Ilha dos Sonhos."
   ]
  },
  {
   "cell_type": "code",
   "execution_count": 14,
   "metadata": {
    "_kg_hide-input": true,
    "execution": {
     "iopub.execute_input": "2023-04-04T15:56:25.822994Z",
     "iopub.status.busy": "2023-04-04T15:56:25.822137Z",
     "iopub.status.idle": "2023-04-04T15:56:26.287529Z",
     "shell.execute_reply": "2023-04-04T15:56:26.286651Z",
     "shell.execute_reply.started": "2023-04-04T15:56:25.822945Z"
    },
    "jupyter": {
     "source_hidden": true
    }
   },
   "outputs": [
    {
     "data": {
      "image/png": "[encoded data removed]",
      "text/plain": [
       "<Figure size 1500x300 with 3 Axes>"
      ]
     },
     "metadata": {},
     "output_type": "display_data"
    }
   ],
   "source": [
    "fig, ax = plt.subplots(figsize=(15, 3))\n",
    "\n",
    "ax0 = plt.subplot2grid((1, 3),(0,0))\n",
    "count = df['species'].value_counts()\n",
    "labels = count.index\n",
    "plt.pie(x=count, labels=labels, autopct='%.0f%%', startangle=90, colors=sns.color_palette(\"pastel\"));\n",
    "plt.title('Espécie')\n",
    "\n",
    "ax1 = plt.subplot2grid((1, 3), (0, 1))\n",
    "count = df['sex'].value_counts()\n",
    "labels = count.index\n",
    "plt.pie(x=count, labels=labels, autopct='%.0f%%', startangle=90, colors=sns.color_palette(\"pastel\"));\n",
    "plt.title('Sexo')\n",
    "\n",
    "ax2 = plt.subplot2grid((1, 3), (0, 2))\n",
    "count = df['island'].value_counts()\n",
    "labels = count.index\n",
    "plt.pie(x=count, labels=labels, autopct='%.0f%%', startangle=90, colors=sns.color_palette(\"pastel\"));\n",
    "plt.title('Ilha')\n",
    "\n",
    "plt.tight_layout()"
   ]
  },
  {
   "cell_type": "code",
   "execution_count": 15,
   "metadata": {},
   "outputs": [
    {
     "data": {
      "image/png": "[encoded data removed]",
      "text/plain": [
       "<Figure size 1500x400 with 3 Axes>"
      ]
     },
     "metadata": {},
     "output_type": "display_data"
    }
   ],
   "source": [
    "fig, ax = plt.subplots(nrows=1, ncols=3, figsize=(15, 4), sharex=True)\n",
    "\n",
    "sns.countplot(data=df, x='species', hue='species', ax=ax[0])\n",
    "ax[0].set_ylabel('Frequência')\n",
    "ax[0].set_xlabel('Espécies')\n",
    "sns.move_legend(ax[0], \"lower center\", bbox_to_anchor=(.5, 1), ncol=3, title='Espécies', frameon=False)\n",
    "\n",
    "sns.countplot(data=df, x='sex', hue='sex', ax=ax[1])\n",
    "ax[1].set_ylabel('Frequência')\n",
    "ax[1].set_xlabel('Sexo')\n",
    "sns.move_legend(ax[1], \"lower center\", bbox_to_anchor=(.5, 1), ncol=3, title='Sexo', frameon=False)\n",
    "\n",
    "sns.countplot(data=df, x='island', hue='island', ax=ax[2])\n",
    "ax[2].set_ylabel('Frequência')\n",
    "ax[2].set_xlabel('Ilha')\n",
    "sns.move_legend(ax[2], \"lower center\", bbox_to_anchor=(.5, 1), ncol=3, title='Ilha', frameon=False)\n",
    "\n",
    "plt.tight_layout()\n",
    "plt.show()"
   ]
  },
  {
   "cell_type": "markdown",
   "metadata": {},
   "source": [
    "- Ao longo dos anos de amostragem, a quantidade de cada espécie tem se mantido relativamente estável, com pequenos aumentos e diminuições.\n",
    "- A proporção de machos e fêmeas também tem se mantido estável, com um pequeno aumento em cada sexo a cada ano.\n",
    "- Inicialmente, as ilhas Biscoe e Dream tinham quantidades semelhantes de pinguins, no entanto, em 2008, a ilha Biscoe apresentou um aumento considerável, enquanto a população em Dream diminuiu."
   ]
  },
  {
   "cell_type": "code",
   "execution_count": 16,
   "metadata": {
    "_kg_hide-input": true,
    "execution": {
     "iopub.execute_input": "2023-04-04T15:56:26.28914Z",
     "iopub.status.busy": "2023-04-04T15:56:26.288621Z",
     "iopub.status.idle": "2023-04-04T15:56:26.977908Z",
     "shell.execute_reply": "2023-04-04T15:56:26.976713Z",
     "shell.execute_reply.started": "2023-04-04T15:56:26.289106Z"
    },
    "jupyter": {
     "source_hidden": true
    }
   },
   "outputs": [
    {
     "data": {
      "text/html": [
       "<div>\n",
       "<style scoped>\n",
       "    .dataframe tbody tr th:only-of-type {\n",
       "        vertical-align: middle;\n",
       "    }\n",
       "\n",
       "    .dataframe tbody tr th {\n",
       "        vertical-align: top;\n",
       "    }\n",
       "\n",
       "    .dataframe thead th {\n",
       "        text-align: right;\n",
       "    }\n",
       "</style>\n",
       "<table border=\"1\" class=\"dataframe\">\n",
       "  <thead>\n",
       "    <tr style=\"text-align: right;\">\n",
       "      <th></th>\n",
       "      <th>species</th>\n",
       "      <th>island</th>\n",
       "      <th>culmen_length_mm</th>\n",
       "      <th>culmen_depth_mm</th>\n",
       "      <th>flipper_length_mm</th>\n",
       "      <th>body_mass_g</th>\n",
       "      <th>sex</th>\n",
       "    </tr>\n",
       "  </thead>\n",
       "  <tbody>\n",
       "    <tr>\n",
       "      <th>count</th>\n",
       "      <td>333.000000</td>\n",
       "      <td>333.000000</td>\n",
       "      <td>333.000000</td>\n",
       "      <td>333.000000</td>\n",
       "      <td>333.000000</td>\n",
       "      <td>333.000000</td>\n",
       "      <td>333.000000</td>\n",
       "    </tr>\n",
       "    <tr>\n",
       "      <th>mean</th>\n",
       "      <td>0.918919</td>\n",
       "      <td>0.651652</td>\n",
       "      <td>43.992793</td>\n",
       "      <td>17.164865</td>\n",
       "      <td>200.966967</td>\n",
       "      <td>4207.057057</td>\n",
       "      <td>0.504505</td>\n",
       "    </tr>\n",
       "    <tr>\n",
       "      <th>std</th>\n",
       "      <td>0.889718</td>\n",
       "      <td>0.714715</td>\n",
       "      <td>5.468668</td>\n",
       "      <td>1.969235</td>\n",
       "      <td>14.015765</td>\n",
       "      <td>805.215802</td>\n",
       "      <td>0.500732</td>\n",
       "    </tr>\n",
       "    <tr>\n",
       "      <th>min</th>\n",
       "      <td>0.000000</td>\n",
       "      <td>0.000000</td>\n",
       "      <td>32.100000</td>\n",
       "      <td>13.100000</td>\n",
       "      <td>172.000000</td>\n",
       "      <td>2700.000000</td>\n",
       "      <td>0.000000</td>\n",
       "    </tr>\n",
       "    <tr>\n",
       "      <th>25%</th>\n",
       "      <td>0.000000</td>\n",
       "      <td>0.000000</td>\n",
       "      <td>39.500000</td>\n",
       "      <td>15.600000</td>\n",
       "      <td>190.000000</td>\n",
       "      <td>3550.000000</td>\n",
       "      <td>0.000000</td>\n",
       "    </tr>\n",
       "    <tr>\n",
       "      <th>50%</th>\n",
       "      <td>1.000000</td>\n",
       "      <td>1.000000</td>\n",
       "      <td>44.500000</td>\n",
       "      <td>17.300000</td>\n",
       "      <td>197.000000</td>\n",
       "      <td>4050.000000</td>\n",
       "      <td>1.000000</td>\n",
       "    </tr>\n",
       "    <tr>\n",
       "      <th>75%</th>\n",
       "      <td>2.000000</td>\n",
       "      <td>1.000000</td>\n",
       "      <td>48.600000</td>\n",
       "      <td>18.700000</td>\n",
       "      <td>213.000000</td>\n",
       "      <td>4775.000000</td>\n",
       "      <td>1.000000</td>\n",
       "    </tr>\n",
       "    <tr>\n",
       "      <th>max</th>\n",
       "      <td>2.000000</td>\n",
       "      <td>2.000000</td>\n",
       "      <td>59.600000</td>\n",
       "      <td>21.500000</td>\n",
       "      <td>231.000000</td>\n",
       "      <td>6300.000000</td>\n",
       "      <td>1.000000</td>\n",
       "    </tr>\n",
       "  </tbody>\n",
       "</table>\n",
       "</div>"
      ],
      "text/plain": [
       "          species      island  culmen_length_mm  culmen_depth_mm  \\\n",
       "count  333.000000  333.000000        333.000000       333.000000   \n",
       "mean     0.918919    0.651652         43.992793        17.164865   \n",
       "std      0.889718    0.714715          5.468668         1.969235   \n",
       "min      0.000000    0.000000         32.100000        13.100000   \n",
       "25%      0.000000    0.000000         39.500000        15.600000   \n",
       "50%      1.000000    1.000000         44.500000        17.300000   \n",
       "75%      2.000000    1.000000         48.600000        18.700000   \n",
       "max      2.000000    2.000000         59.600000        21.500000   \n",
       "\n",
       "       flipper_length_mm  body_mass_g         sex  \n",
       "count         333.000000   333.000000  333.000000  \n",
       "mean          200.966967  4207.057057    0.504505  \n",
       "std            14.015765   805.215802    0.500732  \n",
       "min           172.000000  2700.000000    0.000000  \n",
       "25%           190.000000  3550.000000    0.000000  \n",
       "50%           197.000000  4050.000000    1.000000  \n",
       "75%           213.000000  4775.000000    1.000000  \n",
       "max           231.000000  6300.000000    1.000000  "
      ]
     },
     "execution_count": 16,
     "metadata": {},
     "output_type": "execute_result"
    }
   ],
   "source": [
    "df.describe()"
   ]
  },
  {
   "cell_type": "markdown",
   "metadata": {},
   "source": [
    "### Bico"
   ]
  },
  {
   "cell_type": "markdown",
   "metadata": {},
   "source": [
    "- A mediana do comprimento do bico é de 44 mm."
   ]
  },
  {
   "cell_type": "code",
   "execution_count": 17,
   "metadata": {
    "_kg_hide-input": true,
    "execution": {
     "iopub.execute_input": "2023-04-04T15:56:27.022258Z",
     "iopub.status.busy": "2023-04-04T15:56:27.021926Z",
     "iopub.status.idle": "2023-04-04T15:56:27.665043Z",
     "shell.execute_reply": "2023-04-04T15:56:27.66411Z",
     "shell.execute_reply.started": "2023-04-04T15:56:27.022209Z"
    },
    "jupyter": {
     "source_hidden": true
    }
   },
   "outputs": [
    {
     "data": {
      "image/png": "[encoded data removed]",
      "text/plain": [
       "<Figure size 1100x400 with 3 Axes>"
      ]
     },
     "metadata": {},
     "output_type": "display_data"
    }
   ],
   "source": [
    "var = 'culmen_length_mm'\n",
    "var_title = 'Comprimento do Bico (mm)'\n",
    "\n",
    "fig, ax = plt.subplots(nrows=1, ncols=3, figsize=(11, 4), sharex=True)\n",
    "\n",
    "# Boxplot\n",
    "sns.boxplot(data=df[var], ax=ax[0], orient='h', width=0.4)\n",
    "ax[0].set_xlabel(var_title)\n",
    "\n",
    "# Histograma\n",
    "sns.histplot(data=df[var], ax=ax[1], kde=False)\n",
    "ax[1].set_xlabel(var_title)\n",
    "ax[1].set_ylabel('Frequência')\n",
    "\n",
    "# Curva de densidade\n",
    "sns.kdeplot(data=df[var], ax=ax[2], fill=True)\n",
    "ax[2].set_xlabel(var_title)\n",
    "ax[2].set_ylabel('Densidade')\n",
    "\n",
    "fig.suptitle(var_title)\n",
    "\n",
    "plt.tight_layout()\n",
    "plt.show()"
   ]
  },
  {
   "cell_type": "markdown",
   "metadata": {},
   "source": [
    "### Nadadeira"
   ]
  },
  {
   "cell_type": "markdown",
   "metadata": {},
   "source": [
    "- A nadadeira possui uma mediana de 197 mm."
   ]
  },
  {
   "cell_type": "code",
   "execution_count": 18,
   "metadata": {
    "_kg_hide-input": true,
    "execution": {
     "iopub.execute_input": "2023-04-04T15:56:28.324992Z",
     "iopub.status.busy": "2023-04-04T15:56:28.324527Z",
     "iopub.status.idle": "2023-04-04T15:56:29.170555Z",
     "shell.execute_reply": "2023-04-04T15:56:29.169021Z",
     "shell.execute_reply.started": "2023-04-04T15:56:28.324956Z"
    },
    "jupyter": {
     "source_hidden": true
    }
   },
   "outputs": [
    {
     "data": {
      "image/png": "[encoded data removed]",
      "text/plain": [
       "<Figure size 1100x400 with 3 Axes>"
      ]
     },
     "metadata": {},
     "output_type": "display_data"
    }
   ],
   "source": [
    "var = 'flipper_length_mm'\n",
    "var_title = 'Comprimento da nadadeira [mm]'\n",
    "fig, ax = plt.subplots(nrows=1, ncols=3, figsize=(11, 4), sharex=True)\n",
    "\n",
    "# Boxplot\n",
    "sns.boxplot(data=df[var], ax=ax[0], orient='h', width=0.4)\n",
    "ax[0].set_xlabel(var_title)\n",
    "\n",
    "# Histograma\n",
    "sns.histplot(data=df[var], ax=ax[1], kde=False)\n",
    "ax[1].set_xlabel(var_title)\n",
    "ax[1].set_ylabel('Frequência')\n",
    "\n",
    "# Curva de densidade\n",
    "sns.kdeplot(data=df[var], ax=ax[2], fill=True)\n",
    "ax[2].set_xlabel(var_title)\n",
    "ax[2].set_ylabel('Densidade')\n",
    "\n",
    "fig.suptitle(var_title)\n",
    "\n",
    "plt.tight_layout()"
   ]
  },
  {
   "cell_type": "markdown",
   "metadata": {},
   "source": [
    "### Massa corporal"
   ]
  },
  {
   "cell_type": "markdown",
   "metadata": {},
   "source": [
    "- Os pinguins têm uma massa corporal geralmente em torno de 4 kg."
   ]
  },
  {
   "cell_type": "code",
   "execution_count": 19,
   "metadata": {
    "_kg_hide-input": true,
    "execution": {
     "iopub.execute_input": "2023-04-04T15:56:29.172953Z",
     "iopub.status.busy": "2023-04-04T15:56:29.172188Z",
     "iopub.status.idle": "2023-04-04T15:56:29.825951Z",
     "shell.execute_reply": "2023-04-04T15:56:29.824675Z",
     "shell.execute_reply.started": "2023-04-04T15:56:29.172903Z"
    },
    "jupyter": {
     "source_hidden": true
    }
   },
   "outputs": [
    {
     "data": {
      "image/png": "[encoded data removed]",
      "text/plain": [
       "<Figure size 1100x400 with 3 Axes>"
      ]
     },
     "metadata": {},
     "output_type": "display_data"
    }
   ],
   "source": [
    "var = 'body_mass_g'\n",
    "var_title = 'Massa corporal [g]'\n",
    "fig, ax = plt.subplots(nrows=1, ncols=3, figsize=(11, 4), sharex=True)\n",
    "\n",
    "# Boxplot\n",
    "sns.boxplot(data=df[var], ax=ax[0], orient='h', width=0.4)\n",
    "ax[0].set_xlabel(var_title)\n",
    "\n",
    "# Histograma\n",
    "sns.histplot(data=df[var], ax=ax[1], kde=False)\n",
    "ax[1].set_xlabel(var_title)\n",
    "ax[1].set_ylabel('Frequência')\n",
    "\n",
    "# Curva de densidade\n",
    "sns.kdeplot(data=df[var], ax=ax[2], fill=True)\n",
    "ax[2].set_xlabel(var_title)\n",
    "ax[2].set_ylabel('Densidade')\n",
    "\n",
    "fig.suptitle(var_title)\n",
    "\n",
    "plt.tight_layout()"
   ]
  },
  {
   "cell_type": "markdown",
   "metadata": {},
   "source": [
    "### Massa corporal comparado a cada espécies"
   ]
  },
  {
   "cell_type": "markdown",
   "metadata": {},
   "source": [
    "- Gentoo pesa em torno de 5 kg.\n",
    "- Adelie/Chinstrap pesam em torno de 3 e 4 kg."
   ]
  },
  {
   "cell_type": "code",
   "execution_count": 20,
   "metadata": {
    "_kg_hide-input": true,
    "execution": {
     "iopub.execute_input": "2023-04-04T15:56:35.116829Z",
     "iopub.status.busy": "2023-04-04T15:56:35.116447Z",
     "iopub.status.idle": "2023-04-04T15:56:35.583463Z",
     "shell.execute_reply": "2023-04-04T15:56:35.582584Z",
     "shell.execute_reply.started": "2023-04-04T15:56:35.116791Z"
    },
    "jupyter": {
     "source_hidden": true
    }
   },
   "outputs": [
    {
     "data": {
      "image/png": "[encoded data removed]",
      "text/plain": [
       "<Figure size 1000x400 with 2 Axes>"
      ]
     },
     "metadata": {},
     "output_type": "display_data"
    }
   ],
   "source": [
    "var = 'body_mass_g'\n",
    "var_title = 'Masa corporal [g]'\n",
    "fig, ax = plt.subplots(nrows=1, ncols=2, figsize=(10, 4), sharex=True)\n",
    "\n",
    "# Boxplot\n",
    "sns.boxplot(data=df, x='species', y=var, ax=ax[0], width=.4)\n",
    "ax[0].set_xlabel('Especies')\n",
    "ax[0].set_ylabel(var_title)\n",
    "\n",
    "# Diagrama de violino\n",
    "sns.violinplot(data=df, x='species', y=var, ax=ax[1], hue='species')\n",
    "ax[1].set_xlabel('Especies')\n",
    "ax[1].set_ylabel(var_title)\n",
    "ax[1].get_legend().remove()\n",
    "\n",
    "plt.tight_layout()"
   ]
  },
  {
   "cell_type": "markdown",
   "metadata": {
    "_kg_hide-output": true
   },
   "source": [
    "### 6. Conclusão EDA"
   ]
  },
  {
   "cell_type": "markdown",
   "metadata": {},
   "source": [
    "- Os pinguins da espécie Gentoo são os mais fáceis de distinguir:\n",
    "    - Eles têm uma profundidade de pico menor.\n",
    "    - Possuem uma maior comprimento de nadadeira e massa corporal em comparação com as outras espécies.\n",
    "- Os pinguins da espécie Adelie geralmente têm um comprimento de bico menor.\n",
    "- As espécies Adelie e Chinstrap geralmente possuem características mistas e às vezes são difíceis de separar."
   ]
  },
  {
   "cell_type": "markdown",
   "metadata": {},
   "source": [
    "### 7. DecisionTree / RandomForest"
   ]
  },
  {
   "cell_type": "code",
   "execution_count": 36,
   "metadata": {},
   "outputs": [],
   "source": [
    "import pandas as pd\n",
    "import numpy as np\n",
    "import matplotlib.pyplot as plt\n",
    "import seaborn as sns\n",
    "\n",
    "sns.set()\n",
    "%matplotlib inline\n",
    "\n",
    "from sklearn.model_selection import train_test_split\n",
    "from sklearn.tree import DecisionTreeClassifier\n",
    "from sklearn.ensemble import RandomForestClassifier\n",
    "from sklearn import metrics\n",
    "from sklearn.metrics import classification_report, confusion_matrix"
   ]
  },
  {
   "cell_type": "code",
   "execution_count": 37,
   "metadata": {},
   "outputs": [
    {
     "data": {
      "text/html": [
       "<div>\n",
       "<style scoped>\n",
       "    .dataframe tbody tr th:only-of-type {\n",
       "        vertical-align: middle;\n",
       "    }\n",
       "\n",
       "    .dataframe tbody tr th {\n",
       "        vertical-align: top;\n",
       "    }\n",
       "\n",
       "    .dataframe thead th {\n",
       "        text-align: right;\n",
       "    }\n",
       "</style>\n",
       "<table border=\"1\" class=\"dataframe\">\n",
       "  <thead>\n",
       "    <tr style=\"text-align: right;\">\n",
       "      <th></th>\n",
       "      <th>species</th>\n",
       "      <th>island</th>\n",
       "      <th>culmen_length_mm</th>\n",
       "      <th>culmen_depth_mm</th>\n",
       "      <th>flipper_length_mm</th>\n",
       "      <th>body_mass_g</th>\n",
       "      <th>sex</th>\n",
       "    </tr>\n",
       "  </thead>\n",
       "  <tbody>\n",
       "    <tr>\n",
       "      <th>0</th>\n",
       "      <td>0.0</td>\n",
       "      <td>2.0</td>\n",
       "      <td>39.1</td>\n",
       "      <td>18.7</td>\n",
       "      <td>181.0</td>\n",
       "      <td>3750.0</td>\n",
       "      <td>1.0</td>\n",
       "    </tr>\n",
       "    <tr>\n",
       "      <th>1</th>\n",
       "      <td>0.0</td>\n",
       "      <td>2.0</td>\n",
       "      <td>39.5</td>\n",
       "      <td>17.4</td>\n",
       "      <td>186.0</td>\n",
       "      <td>3800.0</td>\n",
       "      <td>0.0</td>\n",
       "    </tr>\n",
       "    <tr>\n",
       "      <th>2</th>\n",
       "      <td>0.0</td>\n",
       "      <td>2.0</td>\n",
       "      <td>40.3</td>\n",
       "      <td>18.0</td>\n",
       "      <td>195.0</td>\n",
       "      <td>3250.0</td>\n",
       "      <td>0.0</td>\n",
       "    </tr>\n",
       "    <tr>\n",
       "      <th>3</th>\n",
       "      <td>0.0</td>\n",
       "      <td>2.0</td>\n",
       "      <td>36.7</td>\n",
       "      <td>19.3</td>\n",
       "      <td>193.0</td>\n",
       "      <td>3450.0</td>\n",
       "      <td>0.0</td>\n",
       "    </tr>\n",
       "    <tr>\n",
       "      <th>4</th>\n",
       "      <td>0.0</td>\n",
       "      <td>2.0</td>\n",
       "      <td>39.3</td>\n",
       "      <td>20.6</td>\n",
       "      <td>190.0</td>\n",
       "      <td>3650.0</td>\n",
       "      <td>1.0</td>\n",
       "    </tr>\n",
       "  </tbody>\n",
       "</table>\n",
       "</div>"
      ],
      "text/plain": [
       "   species  island  culmen_length_mm  culmen_depth_mm  flipper_length_mm  \\\n",
       "0      0.0     2.0              39.1             18.7              181.0   \n",
       "1      0.0     2.0              39.5             17.4              186.0   \n",
       "2      0.0     2.0              40.3             18.0              195.0   \n",
       "3      0.0     2.0              36.7             19.3              193.0   \n",
       "4      0.0     2.0              39.3             20.6              190.0   \n",
       "\n",
       "   body_mass_g  sex  \n",
       "0       3750.0  1.0  \n",
       "1       3800.0  0.0  \n",
       "2       3250.0  0.0  \n",
       "3       3450.0  0.0  \n",
       "4       3650.0  1.0  "
      ]
     },
     "execution_count": 37,
     "metadata": {},
     "output_type": "execute_result"
    }
   ],
   "source": [
    "df = pd.read_csv('penguins.csv')\n",
    "df.head()"
   ]
  },
  {
   "cell_type": "code",
   "execution_count": 47,
   "metadata": {},
   "outputs": [
    {
     "name": "stdout",
     "output_type": "stream",
     "text": [
      "<class 'pandas.core.frame.DataFrame'>\n",
      "Int64Index: 333 entries, 0 to 332\n",
      "Data columns (total 7 columns):\n",
      " #   Column             Non-Null Count  Dtype  \n",
      "---  ------             --------------  -----  \n",
      " 0   species            333 non-null    float64\n",
      " 1   island             333 non-null    float64\n",
      " 2   culmen_length_mm   333 non-null    float64\n",
      " 3   culmen_depth_mm    333 non-null    float64\n",
      " 4   flipper_length_mm  333 non-null    float64\n",
      " 5   body_mass_g        333 non-null    float64\n",
      " 6   sex                333 non-null    float64\n",
      "dtypes: float64(7)\n",
      "memory usage: 20.8 KB\n"
     ]
    }
   ],
   "source": [
    "df.info()"
   ]
  },
  {
   "cell_type": "code",
   "execution_count": 48,
   "metadata": {},
   "outputs": [],
   "source": [
    "species_labels = ['species']\n",
    "df = pd.get_dummies(df, columns=species_labels, drop_first=False)"
   ]
  },
  {
   "cell_type": "code",
   "execution_count": 49,
   "metadata": {},
   "outputs": [],
   "source": [
    "island_labels = ['island']\n",
    "df = pd.get_dummies(df, columns=island_labels, drop_first=False)"
   ]
  },
  {
   "cell_type": "code",
   "execution_count": 50,
   "metadata": {},
   "outputs": [],
   "source": [
    "sex_labels = ['sex']\n",
    "df = pd.get_dummies(df, columns=sex_labels, drop_first=False)"
   ]
  },
  {
   "cell_type": "code",
   "execution_count": 51,
   "metadata": {},
   "outputs": [
    {
     "data": {
      "text/html": [
       "<div>\n",
       "<style scoped>\n",
       "    .dataframe tbody tr th:only-of-type {\n",
       "        vertical-align: middle;\n",
       "    }\n",
       "\n",
       "    .dataframe tbody tr th {\n",
       "        vertical-align: top;\n",
       "    }\n",
       "\n",
       "    .dataframe thead th {\n",
       "        text-align: right;\n",
       "    }\n",
       "</style>\n",
       "<table border=\"1\" class=\"dataframe\">\n",
       "  <thead>\n",
       "    <tr style=\"text-align: right;\">\n",
       "      <th></th>\n",
       "      <th>culmen_length_mm</th>\n",
       "      <th>culmen_depth_mm</th>\n",
       "      <th>flipper_length_mm</th>\n",
       "      <th>body_mass_g</th>\n",
       "      <th>species_0.0</th>\n",
       "      <th>species_1.0</th>\n",
       "      <th>species_2.0</th>\n",
       "      <th>island_0.0</th>\n",
       "      <th>island_1.0</th>\n",
       "      <th>island_2.0</th>\n",
       "      <th>sex_0.0</th>\n",
       "      <th>sex_1.0</th>\n",
       "    </tr>\n",
       "  </thead>\n",
       "  <tbody>\n",
       "    <tr>\n",
       "      <th>0</th>\n",
       "      <td>39.1</td>\n",
       "      <td>18.7</td>\n",
       "      <td>181.0</td>\n",
       "      <td>3750.0</td>\n",
       "      <td>1</td>\n",
       "      <td>0</td>\n",
       "      <td>0</td>\n",
       "      <td>0</td>\n",
       "      <td>0</td>\n",
       "      <td>1</td>\n",
       "      <td>0</td>\n",
       "      <td>1</td>\n",
       "    </tr>\n",
       "    <tr>\n",
       "      <th>1</th>\n",
       "      <td>39.5</td>\n",
       "      <td>17.4</td>\n",
       "      <td>186.0</td>\n",
       "      <td>3800.0</td>\n",
       "      <td>1</td>\n",
       "      <td>0</td>\n",
       "      <td>0</td>\n",
       "      <td>0</td>\n",
       "      <td>0</td>\n",
       "      <td>1</td>\n",
       "      <td>1</td>\n",
       "      <td>0</td>\n",
       "    </tr>\n",
       "    <tr>\n",
       "      <th>2</th>\n",
       "      <td>40.3</td>\n",
       "      <td>18.0</td>\n",
       "      <td>195.0</td>\n",
       "      <td>3250.0</td>\n",
       "      <td>1</td>\n",
       "      <td>0</td>\n",
       "      <td>0</td>\n",
       "      <td>0</td>\n",
       "      <td>0</td>\n",
       "      <td>1</td>\n",
       "      <td>1</td>\n",
       "      <td>0</td>\n",
       "    </tr>\n",
       "    <tr>\n",
       "      <th>3</th>\n",
       "      <td>36.7</td>\n",
       "      <td>19.3</td>\n",
       "      <td>193.0</td>\n",
       "      <td>3450.0</td>\n",
       "      <td>1</td>\n",
       "      <td>0</td>\n",
       "      <td>0</td>\n",
       "      <td>0</td>\n",
       "      <td>0</td>\n",
       "      <td>1</td>\n",
       "      <td>1</td>\n",
       "      <td>0</td>\n",
       "    </tr>\n",
       "    <tr>\n",
       "      <th>4</th>\n",
       "      <td>39.3</td>\n",
       "      <td>20.6</td>\n",
       "      <td>190.0</td>\n",
       "      <td>3650.0</td>\n",
       "      <td>1</td>\n",
       "      <td>0</td>\n",
       "      <td>0</td>\n",
       "      <td>0</td>\n",
       "      <td>0</td>\n",
       "      <td>1</td>\n",
       "      <td>0</td>\n",
       "      <td>1</td>\n",
       "    </tr>\n",
       "    <tr>\n",
       "      <th>...</th>\n",
       "      <td>...</td>\n",
       "      <td>...</td>\n",
       "      <td>...</td>\n",
       "      <td>...</td>\n",
       "      <td>...</td>\n",
       "      <td>...</td>\n",
       "      <td>...</td>\n",
       "      <td>...</td>\n",
       "      <td>...</td>\n",
       "      <td>...</td>\n",
       "      <td>...</td>\n",
       "      <td>...</td>\n",
       "    </tr>\n",
       "    <tr>\n",
       "      <th>328</th>\n",
       "      <td>47.2</td>\n",
       "      <td>13.7</td>\n",
       "      <td>214.0</td>\n",
       "      <td>4925.0</td>\n",
       "      <td>0</td>\n",
       "      <td>0</td>\n",
       "      <td>1</td>\n",
       "      <td>1</td>\n",
       "      <td>0</td>\n",
       "      <td>0</td>\n",
       "      <td>1</td>\n",
       "      <td>0</td>\n",
       "    </tr>\n",
       "    <tr>\n",
       "      <th>329</th>\n",
       "      <td>46.8</td>\n",
       "      <td>14.3</td>\n",
       "      <td>215.0</td>\n",
       "      <td>4850.0</td>\n",
       "      <td>0</td>\n",
       "      <td>0</td>\n",
       "      <td>1</td>\n",
       "      <td>1</td>\n",
       "      <td>0</td>\n",
       "      <td>0</td>\n",
       "      <td>1</td>\n",
       "      <td>0</td>\n",
       "    </tr>\n",
       "    <tr>\n",
       "      <th>330</th>\n",
       "      <td>50.4</td>\n",
       "      <td>15.7</td>\n",
       "      <td>222.0</td>\n",
       "      <td>5750.0</td>\n",
       "      <td>0</td>\n",
       "      <td>0</td>\n",
       "      <td>1</td>\n",
       "      <td>1</td>\n",
       "      <td>0</td>\n",
       "      <td>0</td>\n",
       "      <td>0</td>\n",
       "      <td>1</td>\n",
       "    </tr>\n",
       "    <tr>\n",
       "      <th>331</th>\n",
       "      <td>45.2</td>\n",
       "      <td>14.8</td>\n",
       "      <td>212.0</td>\n",
       "      <td>5200.0</td>\n",
       "      <td>0</td>\n",
       "      <td>0</td>\n",
       "      <td>1</td>\n",
       "      <td>1</td>\n",
       "      <td>0</td>\n",
       "      <td>0</td>\n",
       "      <td>1</td>\n",
       "      <td>0</td>\n",
       "    </tr>\n",
       "    <tr>\n",
       "      <th>332</th>\n",
       "      <td>49.9</td>\n",
       "      <td>16.1</td>\n",
       "      <td>213.0</td>\n",
       "      <td>5400.0</td>\n",
       "      <td>0</td>\n",
       "      <td>0</td>\n",
       "      <td>1</td>\n",
       "      <td>1</td>\n",
       "      <td>0</td>\n",
       "      <td>0</td>\n",
       "      <td>0</td>\n",
       "      <td>1</td>\n",
       "    </tr>\n",
       "  </tbody>\n",
       "</table>\n",
       "<p>333 rows × 12 columns</p>\n",
       "</div>"
      ],
      "text/plain": [
       "     culmen_length_mm  culmen_depth_mm  flipper_length_mm  body_mass_g  \\\n",
       "0                39.1             18.7              181.0       3750.0   \n",
       "1                39.5             17.4              186.0       3800.0   \n",
       "2                40.3             18.0              195.0       3250.0   \n",
       "3                36.7             19.3              193.0       3450.0   \n",
       "4                39.3             20.6              190.0       3650.0   \n",
       "..                ...              ...                ...          ...   \n",
       "328              47.2             13.7              214.0       4925.0   \n",
       "329              46.8             14.3              215.0       4850.0   \n",
       "330              50.4             15.7              222.0       5750.0   \n",
       "331              45.2             14.8              212.0       5200.0   \n",
       "332              49.9             16.1              213.0       5400.0   \n",
       "\n",
       "     species_0.0  species_1.0  species_2.0  island_0.0  island_1.0  \\\n",
       "0              1            0            0           0           0   \n",
       "1              1            0            0           0           0   \n",
       "2              1            0            0           0           0   \n",
       "3              1            0            0           0           0   \n",
       "4              1            0            0           0           0   \n",
       "..           ...          ...          ...         ...         ...   \n",
       "328            0            0            1           1           0   \n",
       "329            0            0            1           1           0   \n",
       "330            0            0            1           1           0   \n",
       "331            0            0            1           1           0   \n",
       "332            0            0            1           1           0   \n",
       "\n",
       "     island_2.0  sex_0.0  sex_1.0  \n",
       "0             1        0        1  \n",
       "1             1        1        0  \n",
       "2             1        1        0  \n",
       "3             1        1        0  \n",
       "4             1        0        1  \n",
       "..          ...      ...      ...  \n",
       "328           0        1        0  \n",
       "329           0        1        0  \n",
       "330           0        0        1  \n",
       "331           0        1        0  \n",
       "332           0        0        1  \n",
       "\n",
       "[333 rows x 12 columns]"
      ]
     },
     "execution_count": 51,
     "metadata": {},
     "output_type": "execute_result"
    }
   ],
   "source": [
    "df"
   ]
  },
  {
   "cell_type": "markdown",
   "metadata": {},
   "source": [
    "### Decision Tree"
   ]
  },
  {
   "cell_type": "code",
   "execution_count": 52,
   "metadata": {},
   "outputs": [
    {
     "data": {
      "text/plain": [
       "Index(['culmen_length_mm', 'culmen_depth_mm', 'flipper_length_mm',\n",
       "       'body_mass_g', 'species_0.0', 'species_1.0', 'species_2.0',\n",
       "       'island_0.0', 'island_1.0', 'island_2.0', 'sex_0.0', 'sex_1.0'],\n",
       "      dtype='object')"
      ]
     },
     "execution_count": 52,
     "metadata": {},
     "output_type": "execute_result"
    }
   ],
   "source": [
    "df.columns"
   ]
  },
  {
   "cell_type": "code",
   "execution_count": 53,
   "metadata": {},
   "outputs": [],
   "source": [
    "x = df.drop('body_mass_g', axis=1)\n",
    "y = df['body_mass_g']"
   ]
  },
  {
   "cell_type": "code",
   "execution_count": 64,
   "metadata": {},
   "outputs": [],
   "source": [
    "x_train, x_test, y_train, y_test = train_test_split(x, y, test_size=0.3, random_state=101)"
   ]
  },
  {
   "cell_type": "markdown",
   "metadata": {},
   "source": [
    "** Treinamento **"
   ]
  },
  {
   "cell_type": "code",
   "execution_count": 61,
   "metadata": {},
   "outputs": [],
   "source": [
    "dtree = DecisionTreeClassifier()"
   ]
  },
  {
   "cell_type": "code",
   "execution_count": 63,
   "metadata": {},
   "outputs": [
    {
     "data": {
      "text/plain": [
       "DecisionTreeClassifier()"
      ]
     },
     "execution_count": 63,
     "metadata": {},
     "output_type": "execute_result"
    }
   ],
   "source": [
    "dtree.fit(x_train, y_train)"
   ]
  },
  {
   "cell_type": "markdown",
   "metadata": {},
   "source": [
    "** Prevendo os dados **"
   ]
  },
  {
   "cell_type": "code",
   "execution_count": 65,
   "metadata": {},
   "outputs": [],
   "source": [
    "predictions = dtree.predict(x_test)"
   ]
  },
  {
   "cell_type": "code",
   "execution_count": 71,
   "metadata": {},
   "outputs": [
    {
     "name": "stdout",
     "output_type": "stream",
     "text": [
      "              precision    recall  f1-score   support\n",
      "\n",
      "      2900.0       0.00      0.00      0.00         1\n",
      "      2925.0       1.00      0.00      0.00         1\n",
      "      3000.0       1.00      0.00      0.00         2\n",
      "      3050.0       0.00      0.00      0.00         1\n",
      "      3100.0       0.00      1.00      0.00         0\n",
      "      3150.0       0.00      1.00      0.00         0\n",
      "      3175.0       1.00      0.00      0.00         1\n",
      "      3200.0       1.00      0.00      0.00         2\n",
      "      3250.0       0.00      0.00      0.00         2\n",
      "      3275.0       0.00      1.00      0.00         0\n",
      "      3300.0       0.00      0.00      0.00         2\n",
      "      3325.0       1.00      0.00      0.00         3\n",
      "      3350.0       0.00      0.00      0.00         2\n",
      "      3400.0       0.00      0.00      0.00         2\n",
      "      3425.0       1.00      0.00      0.00         2\n",
      "      3450.0       0.00      0.00      0.00         1\n",
      "      3475.0       1.00      0.00      0.00         1\n",
      "      3500.0       0.20      0.50      0.29         2\n",
      "      3525.0       0.00      1.00      0.00         0\n",
      "      3550.0       0.00      0.00      0.00         2\n",
      "      3575.0       0.00      1.00      0.00         0\n",
      "      3600.0       0.00      0.00      0.00         4\n",
      "      3650.0       0.00      0.00      0.00         2\n",
      "      3675.0       0.50      1.00      0.67         1\n",
      "      3700.0       0.00      0.00      0.00         4\n",
      "      3725.0       1.00      0.00      0.00         1\n",
      "      3750.0       0.00      0.00      0.00         1\n",
      "      3775.0       1.00      0.00      0.00         3\n",
      "      3800.0       0.00      0.00      0.00         3\n",
      "      3825.0       1.00      0.00      0.00         1\n",
      "      3875.0       1.00      0.00      0.00         1\n",
      "      3900.0       0.00      0.00      0.00         1\n",
      "      3950.0       0.00      0.00      0.00         3\n",
      "      3975.0       0.00      1.00      0.00         0\n",
      "      4000.0       0.00      0.00      0.00         1\n",
      "      4075.0       0.00      1.00      0.00         0\n",
      "      4100.0       1.00      0.00      0.00         2\n",
      "      4150.0       0.00      0.00      0.00         3\n",
      "      4200.0       0.00      0.00      0.00         1\n",
      "      4250.0       0.00      0.00      0.00         1\n",
      "      4300.0       0.50      0.25      0.33         4\n",
      "      4350.0       1.00      0.00      0.00         1\n",
      "      4400.0       0.20      0.25      0.22         4\n",
      "      4450.0       0.00      1.00      0.00         0\n",
      "      4500.0       1.00      0.00      0.00         1\n",
      "      4575.0       0.00      1.00      0.00         0\n",
      "      4600.0       0.00      0.00      0.00         1\n",
      "      4625.0       1.00      0.00      0.00         2\n",
      "      4650.0       0.00      0.00      0.00         2\n",
      "      4675.0       0.00      1.00      0.00         0\n",
      "      4700.0       0.00      0.00      0.00         1\n",
      "      4725.0       0.00      0.00      0.00         1\n",
      "      4750.0       0.00      0.00      0.00         1\n",
      "      4775.0       0.00      1.00      0.00         0\n",
      "      4800.0       1.00      0.00      0.00         2\n",
      "      4850.0       1.00      0.00      0.00         2\n",
      "      4875.0       1.00      0.00      0.00         1\n",
      "      4950.0       0.00      1.00      0.00         0\n",
      "      5000.0       0.00      1.00      0.00         0\n",
      "      5050.0       0.00      1.00      0.00         0\n",
      "      5100.0       0.00      1.00      0.00         0\n",
      "      5150.0       0.00      1.00      0.00         0\n",
      "      5200.0       1.00      0.00      0.00         3\n",
      "      5250.0       1.00      0.00      0.00         1\n",
      "      5300.0       1.00      0.00      0.00         2\n",
      "      5350.0       1.00      0.00      0.00         2\n",
      "      5400.0       0.00      0.00      0.00         1\n",
      "      5500.0       0.00      0.00      0.00         1\n",
      "      5550.0       0.00      0.00      0.00         2\n",
      "      5600.0       1.00      0.00      0.00         1\n",
      "      5650.0       0.00      1.00      0.00         0\n",
      "      5750.0       0.00      1.00      0.00         0\n",
      "      5800.0       1.00      0.00      0.00         2\n",
      "      5850.0       0.00      1.00      0.00         0\n",
      "      5950.0       1.00      0.00      0.00         1\n",
      "      6300.0       1.00      0.00      0.00         1\n",
      "\n",
      "    accuracy                           0.04       100\n",
      "   macro avg       0.36      0.28      0.02       100\n",
      "weighted avg       0.46      0.04      0.03       100\n",
      "\n"
     ]
    }
   ],
   "source": [
    "print(classification_report(y_test, predictions, zero_division=1))"
   ]
  },
  {
   "cell_type": "code",
   "execution_count": 72,
   "metadata": {},
   "outputs": [
    {
     "name": "stdout",
     "output_type": "stream",
     "text": [
      "[[0 0 0 ... 0 0 0]\n",
      " [0 0 0 ... 0 0 0]\n",
      " [0 0 0 ... 0 0 0]\n",
      " ...\n",
      " [0 0 0 ... 0 0 0]\n",
      " [0 0 0 ... 0 0 0]\n",
      " [0 0 0 ... 0 0 0]]\n"
     ]
    }
   ],
   "source": [
    "print(confusion_matrix(y_test, predictions))"
   ]
  },
  {
   "cell_type": "markdown",
   "metadata": {},
   "source": [
    "### Random Forest"
   ]
  },
  {
   "cell_type": "markdown",
   "metadata": {},
   "source": [
    "** Treinamento **"
   ]
  },
  {
   "cell_type": "code",
   "execution_count": 73,
   "metadata": {},
   "outputs": [],
   "source": [
    "rfc = RandomForestClassifier(n_estimators=200)"
   ]
  },
  {
   "cell_type": "code",
   "execution_count": 74,
   "metadata": {},
   "outputs": [
    {
     "data": {
      "text/plain": [
       "RandomForestClassifier(n_estimators=200)"
      ]
     },
     "execution_count": 74,
     "metadata": {},
     "output_type": "execute_result"
    }
   ],
   "source": [
    "rfc.fit(x_train, y_train)"
   ]
  },
  {
   "cell_type": "markdown",
   "metadata": {},
   "source": [
    "** Prevendo os dados **"
   ]
  },
  {
   "cell_type": "code",
   "execution_count": 75,
   "metadata": {},
   "outputs": [],
   "source": [
    "predictions = rfc.predict(x_test)"
   ]
  },
  {
   "cell_type": "code",
   "execution_count": 77,
   "metadata": {},
   "outputs": [
    {
     "name": "stdout",
     "output_type": "stream",
     "text": [
      "              precision    recall  f1-score   support\n",
      "\n",
      "      2700.0       0.00      1.00      0.00         0\n",
      "      2900.0       0.00      0.00      0.00         1\n",
      "      2925.0       1.00      0.00      0.00         1\n",
      "      3000.0       1.00      0.00      0.00         2\n",
      "      3050.0       0.00      0.00      0.00         1\n",
      "      3150.0       0.00      1.00      0.00         0\n",
      "      3175.0       0.00      0.00      0.00         1\n",
      "      3200.0       0.00      0.00      0.00         2\n",
      "      3250.0       0.00      0.00      0.00         2\n",
      "      3275.0       0.00      1.00      0.00         0\n",
      "      3300.0       0.00      0.00      0.00         2\n",
      "      3325.0       0.00      0.00      0.00         3\n",
      "      3350.0       0.00      0.00      0.00         2\n",
      "      3400.0       0.00      0.00      0.00         2\n",
      "      3425.0       1.00      0.00      0.00         2\n",
      "      3450.0       0.00      0.00      0.00         1\n",
      "      3475.0       1.00      0.00      0.00         1\n",
      "      3500.0       0.17      0.50      0.25         2\n",
      "      3525.0       0.00      1.00      0.00         0\n",
      "      3550.0       0.00      0.00      0.00         2\n",
      "      3600.0       0.00      0.00      0.00         4\n",
      "      3650.0       0.00      0.00      0.00         2\n",
      "      3675.0       1.00      0.00      0.00         1\n",
      "      3700.0       0.00      0.00      0.00         4\n",
      "      3725.0       0.00      0.00      0.00         1\n",
      "      3750.0       0.00      0.00      0.00         1\n",
      "      3775.0       1.00      0.00      0.00         3\n",
      "      3800.0       1.00      0.00      0.00         3\n",
      "      3825.0       1.00      0.00      0.00         1\n",
      "      3875.0       1.00      0.00      0.00         1\n",
      "      3900.0       0.00      0.00      0.00         1\n",
      "      3950.0       0.00      0.00      0.00         3\n",
      "      4000.0       0.00      0.00      0.00         1\n",
      "      4050.0       0.00      1.00      0.00         0\n",
      "      4100.0       0.00      0.00      0.00         2\n",
      "      4150.0       1.00      0.00      0.00         3\n",
      "      4200.0       0.00      0.00      0.00         1\n",
      "      4250.0       1.00      0.00      0.00         1\n",
      "      4300.0       1.00      0.25      0.40         4\n",
      "      4350.0       0.00      0.00      0.00         1\n",
      "      4400.0       1.00      0.00      0.00         4\n",
      "      4450.0       0.00      1.00      0.00         0\n",
      "      4500.0       1.00      0.00      0.00         1\n",
      "      4550.0       0.00      1.00      0.00         0\n",
      "      4600.0       0.00      0.00      0.00         1\n",
      "      4625.0       1.00      0.00      0.00         2\n",
      "      4650.0       1.00      0.00      0.00         2\n",
      "      4675.0       0.00      1.00      0.00         0\n",
      "      4700.0       0.00      0.00      0.00         1\n",
      "      4725.0       0.00      0.00      0.00         1\n",
      "      4750.0       0.50      1.00      0.67         1\n",
      "      4800.0       0.00      0.00      0.00         2\n",
      "      4850.0       1.00      0.00      0.00         2\n",
      "      4875.0       1.00      0.00      0.00         1\n",
      "      4925.0       0.00      1.00      0.00         0\n",
      "      4950.0       0.00      1.00      0.00         0\n",
      "      5000.0       0.00      1.00      0.00         0\n",
      "      5050.0       0.00      1.00      0.00         0\n",
      "      5100.0       0.00      1.00      0.00         0\n",
      "      5150.0       0.00      1.00      0.00         0\n",
      "      5200.0       1.00      0.00      0.00         3\n",
      "      5250.0       1.00      0.00      0.00         1\n",
      "      5300.0       1.00      0.00      0.00         2\n",
      "      5350.0       1.00      0.00      0.00         2\n",
      "      5400.0       0.00      0.00      0.00         1\n",
      "      5500.0       0.00      0.00      0.00         1\n",
      "      5550.0       0.33      0.50      0.40         2\n",
      "      5600.0       1.00      0.00      0.00         1\n",
      "      5700.0       0.00      1.00      0.00         0\n",
      "      5800.0       1.00      0.00      0.00         2\n",
      "      5950.0       1.00      0.00      0.00         1\n",
      "      6000.0       0.00      1.00      0.00         0\n",
      "      6300.0       1.00      0.00      0.00         1\n",
      "\n",
      "    accuracy                           0.04       100\n",
      "   macro avg       0.37      0.25      0.02       100\n",
      "weighted avg       0.49      0.04      0.04       100\n",
      "\n"
     ]
    }
   ],
   "source": [
    "print(classification_report(y_test, predictions, zero_division=1))"
   ]
  },
  {
   "cell_type": "code",
   "execution_count": 78,
   "metadata": {},
   "outputs": [
    {
     "name": "stdout",
     "output_type": "stream",
     "text": [
      "[[0 0 0 ... 0 0 0]\n",
      " [0 0 0 ... 0 0 0]\n",
      " [0 0 0 ... 0 0 0]\n",
      " ...\n",
      " [0 0 0 ... 0 1 0]\n",
      " [0 0 0 ... 0 0 0]\n",
      " [0 0 0 ... 0 0 0]]\n"
     ]
    }
   ],
   "source": [
    "print(confusion_matrix(y_test, predictions))"
   ]
  },
  {
   "cell_type": "code",
   "execution_count": null,
   "metadata": {},
   "outputs": [],
   "source": []
  }
 ],
 "metadata": {
  "kernelspec": {
   "display_name": "Python 3 (ipykernel)",
   "language": "python",
   "name": "python3"
  },
  "language_info": {
   "codemirror_mode": {
    "name": "ipython",
    "version": 3
   },
   "file_extension": ".py",
   "mimetype": "text/x-python",
   "name": "python",
   "nbconvert_exporter": "python",
   "pygments_lexer": "ipython3",
   "version": "3.9.13"
  }
 },
 "nbformat": 4,
 "nbformat_minor": 4
}
